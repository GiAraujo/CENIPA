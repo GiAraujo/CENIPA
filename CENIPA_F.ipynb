{
 "cells": [
  {
   "cell_type": "markdown",
   "metadata": {},
   "source": [
    "## CENIPA - Ocorrências Aeronáuticas na Aviação Civil Brasileira\n",
    "O teste técnico para a vaga de Cientista de Dados da A3Data consiste na exploração da base dados \"Ocorrências Aeronáuticas na Aviação Civil Brasileira\" dos dados abertos do governo \n",
    "(https://dados.gov.br/dataset/ocorrencias-aeronauticas-da-aviacao-civil-brasileira).
   ]
  },
  {
   "cell_type": "markdown",
   "metadata": {},
   "source": [
    "## Importar bibliotecas"
   ]
  },
  {
   "cell_type": "code",
   "execution_count": 1,
   "metadata": {},
   "outputs": [],
   "source": [
    "import pandas as pd\n",
    "import numpy as np\n",
    "import matplotlib.pyplot as plt\n",
    "import seaborn as sns\n",
    "import numpy.ma as ma\n",
    "\n",
    "\n",
    "%matplotlib inline"
   ]
  },
  {
   "cell_type": "markdown",
   "metadata": {},
   "source": [
    "## Leitura do dados\n",
    "Tabelas (arquivos)\n",
    "* OCORRÊNCIA.csv - Informações sobre as ocorrências.\n",
    "* OCORRÊNCIA_TIPO.csv - Informações sobre o tipo de ocorrência.\n",
    "* AERONAVE.csv - Informações sobre as aeronaves envolvidas nas ocorrências.\n",
    "* FATOR_CONTRIBUINTE.csv - Informações sobre os fatores contribuinte das ocorrências que tiveram investigações finalizadas.\n",
    "* RECOMENDAÇÃO.csv - Informações sobre as recomendações de segurança geradas nas ocorrências."
   ]
  },
  {
   "cell_type": "markdown",
   "metadata": {},
   "source": [
    "** OCORRÊNCIA.csv **"
   ]
  },
  {
   "cell_type": "code",
   "execution_count": 2,
   "metadata": {},
   "outputs": [],
   "source": [
    "# OCORRÊNCIA.csv - Informações sobre as ocorrências.\n",
    "\n",
    "df=pd.read_csv('docorrencia_2010_2020.csv', sep=';', encoding='utf8', na_values=['****','*****', '***',''],\n",
    "                        header=0)"
   ]
  },
  {
   "cell_type": "code",
   "execution_count": 3,
   "metadata": {},
   "outputs": [
    {
     "data": {
      "text/plain": [
       "(5752, 22)"
      ]
     },
     "execution_count": 3,
     "metadata": {},
     "output_type": "execute_result"
    }
   ],
   "source": [
    "# Verificar quantidade de linhas e colunas\n",
    "\n",
    "df.shape"
   ]
  },
  {
   "cell_type": "code",
   "execution_count": 4,
   "metadata": {},
   "outputs": [
    {
     "data": {
      "text/html": [
       "<div>\n",
       "<style scoped>\n",
       "    .dataframe tbody tr th:only-of-type {\n",
       "        vertical-align: middle;\n",
       "    }\n",
       "\n",
       "    .dataframe tbody tr th {\n",
       "        vertical-align: top;\n",
       "    }\n",
       "\n",
       "    .dataframe thead th {\n",
       "        text-align: right;\n",
       "    }\n",
       "</style>\n",
       "<table border=\"1\" class=\"dataframe\">\n",
       "  <thead>\n",
       "    <tr style=\"text-align: right;\">\n",
       "      <th></th>\n",
       "      <th>codigo_ocorrencia</th>\n",
       "      <th>codigo_ocorrencia1</th>\n",
       "      <th>codigo_ocorrencia2</th>\n",
       "      <th>codigo_ocorrencia3</th>\n",
       "      <th>codigo_ocorrencia4</th>\n",
       "      <th>ocorrencia_classificacao</th>\n",
       "      <th>ocorrencia_latitude</th>\n",
       "      <th>ocorrencia_longitude</th>\n",
       "      <th>ocorrencia_cidade</th>\n",
       "      <th>ocorrencia_uf</th>\n",
       "      <th>...</th>\n",
       "      <th>ocorrencia_dia</th>\n",
       "      <th>ocorrencia_hora</th>\n",
       "      <th>investigacao_aeronave_liberada</th>\n",
       "      <th>investigacao_status</th>\n",
       "      <th>divulgacao_relatorio_numero</th>\n",
       "      <th>divulgacao_relatorio_publicado</th>\n",
       "      <th>divulgacao_dia_publicacao</th>\n",
       "      <th>total_recomendacoes</th>\n",
       "      <th>total_aeronaves_envolvidas</th>\n",
       "      <th>ocorrencia_saida_pista</th>\n",
       "    </tr>\n",
       "  </thead>\n",
       "  <tbody>\n",
       "    <tr>\n",
       "      <th>0</th>\n",
       "      <td>40211</td>\n",
       "      <td>40211</td>\n",
       "      <td>40211</td>\n",
       "      <td>40211</td>\n",
       "      <td>40211</td>\n",
       "      <td>INCIDENTE</td>\n",
       "      <td>NaN</td>\n",
       "      <td>NaN</td>\n",
       "      <td>RIO DE JANEIRO</td>\n",
       "      <td>RJ</td>\n",
       "      <td>...</td>\n",
       "      <td>03/01/2010</td>\n",
       "      <td>12:00:00</td>\n",
       "      <td>SIM</td>\n",
       "      <td>FINALIZADA</td>\n",
       "      <td>NaN</td>\n",
       "      <td>NÃO</td>\n",
       "      <td>NaN</td>\n",
       "      <td>0</td>\n",
       "      <td>1</td>\n",
       "      <td>NÃO</td>\n",
       "    </tr>\n",
       "    <tr>\n",
       "      <th>1</th>\n",
       "      <td>40349</td>\n",
       "      <td>40349</td>\n",
       "      <td>40349</td>\n",
       "      <td>40349</td>\n",
       "      <td>40349</td>\n",
       "      <td>INCIDENTE</td>\n",
       "      <td>NaN</td>\n",
       "      <td>NaN</td>\n",
       "      <td>BELÉM</td>\n",
       "      <td>PA</td>\n",
       "      <td>...</td>\n",
       "      <td>03/01/2010</td>\n",
       "      <td>11:05:00</td>\n",
       "      <td>SIM</td>\n",
       "      <td>FINALIZADA</td>\n",
       "      <td>NaN</td>\n",
       "      <td>NÃO</td>\n",
       "      <td>NaN</td>\n",
       "      <td>0</td>\n",
       "      <td>1</td>\n",
       "      <td>NÃO</td>\n",
       "    </tr>\n",
       "  </tbody>\n",
       "</table>\n",
       "<p>2 rows × 22 columns</p>\n",
       "</div>"
      ],
      "text/plain": [
       "   codigo_ocorrencia  codigo_ocorrencia1  codigo_ocorrencia2  \\\n",
       "0              40211               40211               40211   \n",
       "1              40349               40349               40349   \n",
       "\n",
       "   codigo_ocorrencia3  codigo_ocorrencia4 ocorrencia_classificacao  \\\n",
       "0               40211               40211                INCIDENTE   \n",
       "1               40349               40349                INCIDENTE   \n",
       "\n",
       "  ocorrencia_latitude ocorrencia_longitude ocorrencia_cidade ocorrencia_uf  \\\n",
       "0                 NaN                  NaN    RIO DE JANEIRO            RJ   \n",
       "1                 NaN                  NaN             BELÉM            PA   \n",
       "\n",
       "   ... ocorrencia_dia ocorrencia_hora investigacao_aeronave_liberada  \\\n",
       "0  ...     03/01/2010        12:00:00                            SIM   \n",
       "1  ...     03/01/2010        11:05:00                            SIM   \n",
       "\n",
       "  investigacao_status divulgacao_relatorio_numero  \\\n",
       "0          FINALIZADA                         NaN   \n",
       "1          FINALIZADA                         NaN   \n",
       "\n",
       "  divulgacao_relatorio_publicado divulgacao_dia_publicacao  \\\n",
       "0                            NÃO                       NaN   \n",
       "1                            NÃO                       NaN   \n",
       "\n",
       "  total_recomendacoes total_aeronaves_envolvidas  ocorrencia_saida_pista  \n",
       "0                   0                          1                     NÃO  \n",
       "1                   0                          1                     NÃO  \n",
       "\n",
       "[2 rows x 22 columns]"
      ]
     },
     "execution_count": 4,
     "metadata": {},
     "output_type": "execute_result"
    }
   ],
   "source": [
    "# Verificar dados do DF\n",
    "\n",
    "df.head(2)"
   ]
  },
  {
   "cell_type": "code",
   "execution_count": 5,
   "metadata": {},
   "outputs": [
    {
     "data": {
      "text/plain": [
       "codigo_ocorrencia                    0\n",
       "codigo_ocorrencia1                   0\n",
       "codigo_ocorrencia2                   0\n",
       "codigo_ocorrencia3                   0\n",
       "codigo_ocorrencia4                   0\n",
       "ocorrencia_classificacao             0\n",
       "ocorrencia_latitude               2295\n",
       "ocorrencia_longitude              2297\n",
       "ocorrencia_cidade                    0\n",
       "ocorrencia_uf                        1\n",
       "ocorrencia_pais                      0\n",
       "ocorrencia_aerodromo              2331\n",
       "ocorrencia_dia                       0\n",
       "ocorrencia_hora                      1\n",
       "investigacao_aeronave_liberada    2482\n",
       "investigacao_status                340\n",
       "divulgacao_relatorio_numero       3793\n",
       "divulgacao_relatorio_publicado       0\n",
       "divulgacao_dia_publicacao         4258\n",
       "total_recomendacoes                  0\n",
       "total_aeronaves_envolvidas           0\n",
       "ocorrencia_saida_pista               0\n",
       "dtype: int64"
      ]
     },
     "execution_count": 5,
     "metadata": {},
     "output_type": "execute_result"
    }
   ],
   "source": [
    "# Verificar a quantidade de dados nulos\n",
    "df.isnull().sum()"
   ]
  },
  {
   "cell_type": "code",
   "execution_count": 6,
   "metadata": {},
   "outputs": [
    {
     "data": {
      "text/plain": [
       "RIO DE JANEIRO           321\n",
       "SÃO PAULO                275\n",
       "BELO HORIZONTE           188\n",
       "GUARULHOS                153\n",
       "CAMPINAS                 150\n",
       "                        ... \n",
       "ESPIGÃO D'OESTE            1\n",
       "FORMIGA                    1\n",
       "NOVA PRATA                 1\n",
       "JOÃO MONLEVADE             1\n",
       "SÃO LOURENÇO DA SERRA      1\n",
       "Name: ocorrencia_cidade, Length: 1099, dtype: int64"
      ]
     },
     "execution_count": 6,
     "metadata": {},
     "output_type": "execute_result"
    }
   ],
   "source": [
    "\n",
    "df['ocorrencia_cidade'].value_counts()"
   ]
  },
  {
   "cell_type": "code",
   "execution_count": 7,
   "metadata": {},
   "outputs": [
    {
     "data": {
      "text/plain": [
       "1    5686\n",
       "2      63\n",
       "3       3\n",
       "Name: total_aeronaves_envolvidas, dtype: int64"
      ]
     },
     "execution_count": 7,
     "metadata": {},
     "output_type": "execute_result"
    }
   ],
   "source": [
    "\n",
    "df['total_aeronaves_envolvidas'].value_counts()"
   ]
  },
  {
   "cell_type": "code",
   "execution_count": 8,
   "metadata": {},
   "outputs": [
    {
     "name": "stdout",
     "output_type": "stream",
     "text": [
      "<class 'pandas.core.frame.DataFrame'>\n",
      "RangeIndex: 5752 entries, 0 to 5751\n",
      "Data columns (total 22 columns):\n",
      " #   Column                          Non-Null Count  Dtype \n",
      "---  ------                          --------------  ----- \n",
      " 0   codigo_ocorrencia               5752 non-null   int64 \n",
      " 1   codigo_ocorrencia1              5752 non-null   int64 \n",
      " 2   codigo_ocorrencia2              5752 non-null   int64 \n",
      " 3   codigo_ocorrencia3              5752 non-null   int64 \n",
      " 4   codigo_ocorrencia4              5752 non-null   int64 \n",
      " 5   ocorrencia_classificacao        5752 non-null   object\n",
      " 6   ocorrencia_latitude             3457 non-null   object\n",
      " 7   ocorrencia_longitude            3455 non-null   object\n",
      " 8   ocorrencia_cidade               5752 non-null   object\n",
      " 9   ocorrencia_uf                   5751 non-null   object\n",
      " 10  ocorrencia_pais                 5752 non-null   object\n",
      " 11  ocorrencia_aerodromo            3421 non-null   object\n",
      " 12  ocorrencia_dia                  5752 non-null   object\n",
      " 13  ocorrencia_hora                 5751 non-null   object\n",
      " 14  investigacao_aeronave_liberada  3270 non-null   object\n",
      " 15  investigacao_status             5412 non-null   object\n",
      " 16  divulgacao_relatorio_numero     1959 non-null   object\n",
      " 17  divulgacao_relatorio_publicado  5752 non-null   object\n",
      " 18  divulgacao_dia_publicacao       1494 non-null   object\n",
      " 19  total_recomendacoes             5752 non-null   int64 \n",
      " 20  total_aeronaves_envolvidas      5752 non-null   int64 \n",
      " 21  ocorrencia_saida_pista          5752 non-null   object\n",
      "dtypes: int64(7), object(15)\n",
      "memory usage: 988.8+ KB\n"
     ]
    }
   ],
   "source": [
    "# Verificar a quantidade de dados, nome das colunas e tipo das colunas\n",
    "df.info()"
   ]
  },
  {
   "cell_type": "markdown",
   "metadata": {},
   "source": [
    "** OCORRÊNCIA_TIPO.csv **"
   ]
  },
  {
   "cell_type": "code",
   "execution_count": 9,
   "metadata": {},
   "outputs": [],
   "source": [
    "# OCORRÊNCIA_TIPO.csv - Informações sobre o tipo de ocorrência\n",
    "\n",
    "df1= pd.read_csv('docorrencia_tipo_2010_2020.csv', sep=';', encoding='utf8',na_values=['****', '***',''], header=0)"
   ]
  },
  {
   "cell_type": "code",
   "execution_count": 10,
   "metadata": {},
   "outputs": [
    {
     "data": {
      "text/plain": [
       "(5884, 4)"
      ]
     },
     "execution_count": 10,
     "metadata": {},
     "output_type": "execute_result"
    }
   ],
   "source": [
    "df1.shape"
   ]
  },
  {
   "cell_type": "code",
   "execution_count": 11,
   "metadata": {},
   "outputs": [
    {
     "data": {
      "text/html": [
       "<div>\n",
       "<style scoped>\n",
       "    .dataframe tbody tr th:only-of-type {\n",
       "        vertical-align: middle;\n",
       "    }\n",
       "\n",
       "    .dataframe tbody tr th {\n",
       "        vertical-align: top;\n",
       "    }\n",
       "\n",
       "    .dataframe thead th {\n",
       "        text-align: right;\n",
       "    }\n",
       "</style>\n",
       "<table border=\"1\" class=\"dataframe\">\n",
       "  <thead>\n",
       "    <tr style=\"text-align: right;\">\n",
       "      <th></th>\n",
       "      <th>codigo_ocorrencia1</th>\n",
       "      <th>ocorrencia_tipo</th>\n",
       "      <th>ocorrencia_tipo_categoria</th>\n",
       "      <th>taxonomia_tipo_icao</th>\n",
       "    </tr>\n",
       "  </thead>\n",
       "  <tbody>\n",
       "    <tr>\n",
       "      <th>0</th>\n",
       "      <td>39115</td>\n",
       "      <td>PANE SECA</td>\n",
       "      <td>COMBUSTÍVEL | PANE SECA</td>\n",
       "      <td>FUEL</td>\n",
       "    </tr>\n",
       "    <tr>\n",
       "      <th>1</th>\n",
       "      <td>39155</td>\n",
       "      <td>VAZAMENTO DE COMBUSTÍVEL</td>\n",
       "      <td>FALHA OU MAU FUNCIONAMENTO DE SISTEMA / COMPON...</td>\n",
       "      <td>SCF-NP</td>\n",
       "    </tr>\n",
       "  </tbody>\n",
       "</table>\n",
       "</div>"
      ],
      "text/plain": [
       "   codigo_ocorrencia1           ocorrencia_tipo  \\\n",
       "0               39115                 PANE SECA   \n",
       "1               39155  VAZAMENTO DE COMBUSTÍVEL   \n",
       "\n",
       "                           ocorrencia_tipo_categoria taxonomia_tipo_icao  \n",
       "0                            COMBUSTÍVEL | PANE SECA                FUEL  \n",
       "1  FALHA OU MAU FUNCIONAMENTO DE SISTEMA / COMPON...              SCF-NP  "
      ]
     },
     "execution_count": 11,
     "metadata": {},
     "output_type": "execute_result"
    }
   ],
   "source": [
    "df1.head(2)"
   ]
  },
  {
   "cell_type": "code",
   "execution_count": 12,
   "metadata": {},
   "outputs": [
    {
     "data": {
      "text/plain": [
       "codigo_ocorrencia1           0\n",
       "ocorrencia_tipo              0\n",
       "ocorrencia_tipo_categoria    0\n",
       "taxonomia_tipo_icao          0\n",
       "dtype: int64"
      ]
     },
     "execution_count": 12,
     "metadata": {},
     "output_type": "execute_result"
    }
   ],
   "source": [
    "df1.isnull().sum()"
   ]
  },
  {
   "cell_type": "markdown",
   "metadata": {},
   "source": [
    "** AERONAVE.csv **"
   ]
  },
  {
   "cell_type": "code",
   "execution_count": 13,
   "metadata": {},
   "outputs": [],
   "source": [
    "# AERONAVE.csv - Informações sobre as aeronaves envolvidas nas ocorrências.\n",
    "\n",
    "df2= pd.read_csv('daeronave_2010_2020.csv', sep=';', encoding='utf8', na_values=['****', '***',''], header=0)"
   ]
  },
  {
   "cell_type": "code",
   "execution_count": 14,
   "metadata": {},
   "outputs": [
    {
     "data": {
      "text/plain": [
       "(5821, 23)"
      ]
     },
     "execution_count": 14,
     "metadata": {},
     "output_type": "execute_result"
    }
   ],
   "source": [
    "df2.shape"
   ]
  },
  {
   "cell_type": "code",
   "execution_count": 15,
   "metadata": {},
   "outputs": [
    {
     "name": "stdout",
     "output_type": "stream",
     "text": [
      "<class 'pandas.core.frame.DataFrame'>\n",
      "RangeIndex: 5821 entries, 0 to 5820\n",
      "Data columns (total 23 columns):\n",
      " #   Column                       Non-Null Count  Dtype  \n",
      "---  ------                       --------------  -----  \n",
      " 0   codigo_ocorrencia2           5821 non-null   int64  \n",
      " 1   aeronave_matricula           5821 non-null   object \n",
      " 2   aeronave_operador_categoria  3028 non-null   object \n",
      " 3   aeronave_tipo_veiculo        5711 non-null   object \n",
      " 4   aeronave_fabricante          5500 non-null   object \n",
      " 5   aeronave_modelo              5701 non-null   object \n",
      " 6   aeronave_tipo_icao           5597 non-null   object \n",
      " 7   aeronave_motor_tipo          5653 non-null   object \n",
      " 8   aeronave_motor_quantidade    5756 non-null   object \n",
      " 9   aeronave_pmd                 5821 non-null   int64  \n",
      " 10  aeronave_pmd_categoria       5821 non-null   int64  \n",
      " 11  aeronave_assentos            5670 non-null   float64\n",
      " 12  aeronave_ano_fabricacao      5671 non-null   float64\n",
      " 13  aeronave_pais_fabricante     5821 non-null   object \n",
      " 14  aeronave_pais_registro       5821 non-null   object \n",
      " 15  aeronave_registro_categoria  5711 non-null   object \n",
      " 16  aeronave_registro_segmento   5732 non-null   object \n",
      " 17  aeronave_voo_origem          5695 non-null   object \n",
      " 18  aeronave_voo_destino         5697 non-null   object \n",
      " 19  aeronave_fase_operacao       5799 non-null   object \n",
      " 20  aeronave_tipo_operacao       5666 non-null   object \n",
      " 21  aeronave_nivel_dano          5768 non-null   object \n",
      " 22  aeronave_fatalidades_total   5821 non-null   int64  \n",
      "dtypes: float64(2), int64(4), object(17)\n",
      "memory usage: 1.0+ MB\n"
     ]
    }
   ],
   "source": [
    "df2.info()"
   ]
  },
  {
   "cell_type": "code",
   "execution_count": 16,
   "metadata": {},
   "outputs": [
    {
     "data": {
      "text/plain": [
       "codigo_ocorrencia2                0\n",
       "aeronave_matricula                0\n",
       "aeronave_operador_categoria    2793\n",
       "aeronave_tipo_veiculo           110\n",
       "aeronave_fabricante             321\n",
       "aeronave_modelo                 120\n",
       "aeronave_tipo_icao              224\n",
       "aeronave_motor_tipo             168\n",
       "aeronave_motor_quantidade        65\n",
       "aeronave_pmd                      0\n",
       "aeronave_pmd_categoria            0\n",
       "aeronave_assentos               151\n",
       "aeronave_ano_fabricacao         150\n",
       "aeronave_pais_fabricante          0\n",
       "aeronave_pais_registro            0\n",
       "aeronave_registro_categoria     110\n",
       "aeronave_registro_segmento       89\n",
       "aeronave_voo_origem             126\n",
       "aeronave_voo_destino            124\n",
       "aeronave_fase_operacao           22\n",
       "aeronave_tipo_operacao          155\n",
       "aeronave_nivel_dano              53\n",
       "aeronave_fatalidades_total        0\n",
       "dtype: int64"
      ]
     },
     "execution_count": 16,
     "metadata": {},
     "output_type": "execute_result"
    }
   ],
   "source": [
    "df2.isnull().sum()"
   ]
  },
  {
   "cell_type": "code",
   "execution_count": 17,
   "metadata": {},
   "outputs": [
    {
     "data": {
      "text/html": [
       "<div>\n",
       "<style scoped>\n",
       "    .dataframe tbody tr th:only-of-type {\n",
       "        vertical-align: middle;\n",
       "    }\n",
       "\n",
       "    .dataframe tbody tr th {\n",
       "        vertical-align: top;\n",
       "    }\n",
       "\n",
       "    .dataframe thead th {\n",
       "        text-align: right;\n",
       "    }\n",
       "</style>\n",
       "<table border=\"1\" class=\"dataframe\">\n",
       "  <thead>\n",
       "    <tr style=\"text-align: right;\">\n",
       "      <th></th>\n",
       "      <th>codigo_ocorrencia2</th>\n",
       "      <th>aeronave_matricula</th>\n",
       "      <th>aeronave_operador_categoria</th>\n",
       "      <th>aeronave_tipo_veiculo</th>\n",
       "      <th>aeronave_fabricante</th>\n",
       "      <th>aeronave_modelo</th>\n",
       "      <th>aeronave_tipo_icao</th>\n",
       "      <th>aeronave_motor_tipo</th>\n",
       "      <th>aeronave_motor_quantidade</th>\n",
       "      <th>aeronave_pmd</th>\n",
       "      <th>...</th>\n",
       "      <th>aeronave_pais_fabricante</th>\n",
       "      <th>aeronave_pais_registro</th>\n",
       "      <th>aeronave_registro_categoria</th>\n",
       "      <th>aeronave_registro_segmento</th>\n",
       "      <th>aeronave_voo_origem</th>\n",
       "      <th>aeronave_voo_destino</th>\n",
       "      <th>aeronave_fase_operacao</th>\n",
       "      <th>aeronave_tipo_operacao</th>\n",
       "      <th>aeronave_nivel_dano</th>\n",
       "      <th>aeronave_fatalidades_total</th>\n",
       "    </tr>\n",
       "  </thead>\n",
       "  <tbody>\n",
       "    <tr>\n",
       "      <th>0</th>\n",
       "      <td>39115</td>\n",
       "      <td>PTNQX</td>\n",
       "      <td>NaN</td>\n",
       "      <td>AVIÃO</td>\n",
       "      <td>NEIVA INDUSTRIA AERONAUTICA</td>\n",
       "      <td>EMB-711A</td>\n",
       "      <td>P28R</td>\n",
       "      <td>PISTÃO</td>\n",
       "      <td>MONOMOTOR</td>\n",
       "      <td>1202</td>\n",
       "      <td>...</td>\n",
       "      <td>BRASIL</td>\n",
       "      <td>BRASIL</td>\n",
       "      <td>AVIÃO</td>\n",
       "      <td>PARTICULAR</td>\n",
       "      <td>BRIGADEIRO ARARIPE MACEDO</td>\n",
       "      <td>CORRENTINA</td>\n",
       "      <td>DECOLAGEM</td>\n",
       "      <td>PRIVADA</td>\n",
       "      <td>SUBSTANCIAL</td>\n",
       "      <td>0</td>\n",
       "    </tr>\n",
       "    <tr>\n",
       "      <th>1</th>\n",
       "      <td>39155</td>\n",
       "      <td>PTLVI</td>\n",
       "      <td>NaN</td>\n",
       "      <td>AVIÃO</td>\n",
       "      <td>BEECH AIRCRAFT</td>\n",
       "      <td>C90</td>\n",
       "      <td>BE9L</td>\n",
       "      <td>TURBOÉLICE</td>\n",
       "      <td>BIMOTOR</td>\n",
       "      <td>4377</td>\n",
       "      <td>...</td>\n",
       "      <td>BRASIL</td>\n",
       "      <td>BRASIL</td>\n",
       "      <td>AVIÃO</td>\n",
       "      <td>PARTICULAR</td>\n",
       "      <td>FORA DE AERODROMO</td>\n",
       "      <td>FORA DE AERODROMO</td>\n",
       "      <td>DECOLAGEM</td>\n",
       "      <td>PRIVADA</td>\n",
       "      <td>NENHUM</td>\n",
       "      <td>0</td>\n",
       "    </tr>\n",
       "  </tbody>\n",
       "</table>\n",
       "<p>2 rows × 23 columns</p>\n",
       "</div>"
      ],
      "text/plain": [
       "   codigo_ocorrencia2 aeronave_matricula aeronave_operador_categoria  \\\n",
       "0               39115              PTNQX                         NaN   \n",
       "1               39155              PTLVI                         NaN   \n",
       "\n",
       "  aeronave_tipo_veiculo          aeronave_fabricante aeronave_modelo  \\\n",
       "0                 AVIÃO  NEIVA INDUSTRIA AERONAUTICA        EMB-711A   \n",
       "1                 AVIÃO               BEECH AIRCRAFT             C90   \n",
       "\n",
       "  aeronave_tipo_icao aeronave_motor_tipo aeronave_motor_quantidade  \\\n",
       "0               P28R              PISTÃO                 MONOMOTOR   \n",
       "1               BE9L          TURBOÉLICE                   BIMOTOR   \n",
       "\n",
       "   aeronave_pmd  ...  aeronave_pais_fabricante  aeronave_pais_registro  \\\n",
       "0          1202  ...                    BRASIL                  BRASIL   \n",
       "1          4377  ...                    BRASIL                  BRASIL   \n",
       "\n",
       "   aeronave_registro_categoria aeronave_registro_segmento  \\\n",
       "0                        AVIÃO                 PARTICULAR   \n",
       "1                        AVIÃO                 PARTICULAR   \n",
       "\n",
       "         aeronave_voo_origem aeronave_voo_destino aeronave_fase_operacao  \\\n",
       "0  BRIGADEIRO ARARIPE MACEDO           CORRENTINA              DECOLAGEM   \n",
       "1          FORA DE AERODROMO    FORA DE AERODROMO              DECOLAGEM   \n",
       "\n",
       "  aeronave_tipo_operacao aeronave_nivel_dano aeronave_fatalidades_total  \n",
       "0                PRIVADA         SUBSTANCIAL                          0  \n",
       "1                PRIVADA              NENHUM                          0  \n",
       "\n",
       "[2 rows x 23 columns]"
      ]
     },
     "execution_count": 17,
     "metadata": {},
     "output_type": "execute_result"
    }
   ],
   "source": [
    "df2.head(2)"
   ]
  },
  {
   "cell_type": "code",
   "execution_count": 18,
   "metadata": {},
   "outputs": [
    {
     "data": {
      "text/plain": [
       "POUSO                              982\n",
       "DECOLAGEM                          953\n",
       "CRUZEIRO                           865\n",
       "CORRIDA APÓS POUSO                 615\n",
       "TÁXI                               443\n",
       "SUBIDA                             382\n",
       "APROXIMAÇÃO FINAL                  302\n",
       "MANOBRA                            235\n",
       "DESCIDA                            167\n",
       "ESPECIALIZADA                      161\n",
       "CIRCUITO DE TRÁFEGO                137\n",
       "INDETERMINADA                      109\n",
       "OUTRA FASE                          83\n",
       "ESTACIONAMENTO                      78\n",
       "VOO A BAIXA ALTURA                  55\n",
       "ARREMETIDA NO SOLO                  45\n",
       "OPERAÇÃO DE SOLO                    33\n",
       "ARREMETIDA NO AR                    29\n",
       "PARTIDA DO MOTOR                    28\n",
       "PAIRADO                             19\n",
       "RETA FINAL                          15\n",
       "PROCEDIMENTO DE APROXIMAÇÃO IFR     13\n",
       "DECOLAGEM VERTICAL                  13\n",
       "SAÍDA IFR                            9\n",
       "CHEQUE DE MOTOR OU ROTOR             8\n",
       "PUSHBACK                             8\n",
       "ESPERA                               5\n",
       "DESCIDA DESCONTROLADA                3\n",
       "DESCIDA DE EMERGÊNCIA                2\n",
       "EMPREGO MILITAR                      1\n",
       "MUDANÇA DE NÍVEL OU ALTITUDE         1\n",
       "Name: aeronave_fase_operacao, dtype: int64"
      ]
     },
     "execution_count": 18,
     "metadata": {},
     "output_type": "execute_result"
    }
   ],
   "source": [
    "df2['aeronave_fase_operacao'].value_counts()"
   ]
  },
  {
   "cell_type": "code",
   "execution_count": 19,
   "metadata": {},
   "outputs": [
    {
     "data": {
      "text/plain": [
       "MONOMOTOR      2959\n",
       "BIMOTOR        2584\n",
       "SEM TRAÇÃO      131\n",
       "TRIMOTOR         75\n",
       "QUADRIMOTOR       7\n",
       "Name: aeronave_motor_quantidade, dtype: int64"
      ]
     },
     "execution_count": 19,
     "metadata": {},
     "output_type": "execute_result"
    }
   ],
   "source": [
    "df2['aeronave_motor_quantidade'].value_counts()"
   ]
  },
  {
   "cell_type": "code",
   "execution_count": 20,
   "metadata": {},
   "outputs": [
    {
     "data": {
      "text/plain": [
       "AVIÃO          4683\n",
       "HELICÓPTERO     654\n",
       "ULTRALEVE       333\n",
       "PLANADOR         19\n",
       "ANFÍBIO          13\n",
       "TRIKE             5\n",
       "DIRIGÍVEL         2\n",
       "HIDROAVIÃO        1\n",
       "BALÃO             1\n",
       "Name: aeronave_registro_categoria, dtype: int64"
      ]
     },
     "execution_count": 20,
     "metadata": {},
     "output_type": "execute_result"
    }
   ],
   "source": [
    "df2['aeronave_registro_categoria'].value_counts()"
   ]
  },
  {
   "cell_type": "code",
   "execution_count": 21,
   "metadata": {},
   "outputs": [
    {
     "data": {
      "text/plain": [
       "PARTICULAR                1777\n",
       "REGULAR                   1176\n",
       "INSTRUÇÃO                  819\n",
       "TÁXI AÉREO                 770\n",
       "EXPERIMENTAL               460\n",
       "AGRÍCOLA                   345\n",
       "ADMINISTRAÇÃO DIRETA       193\n",
       "ESPECIALIZADA              122\n",
       "MÚLTIPLA                    32\n",
       "NÃO REGULAR                 28\n",
       "ADMINISTRAÇÃO INDIRETA       8\n",
       "HISTÓRICA                    2\n",
       "Name: aeronave_registro_segmento, dtype: int64"
      ]
     },
     "execution_count": 21,
     "metadata": {},
     "output_type": "execute_result"
    }
   ],
   "source": [
    "df2['aeronave_registro_segmento'].value_counts()"
   ]
  },
  {
   "cell_type": "code",
   "execution_count": 22,
   "metadata": {},
   "outputs": [
    {
     "data": {
      "text/plain": [
       "PRIVADA          1888\n",
       "REGULAR          1177\n",
       "INSTRUÇÃO         784\n",
       "TÁXI AÉREO        754\n",
       "AGRÍCOLA          478\n",
       "EXPERIMENTAL      291\n",
       "POLICIAL          156\n",
       "ESPECIALIZADA      79\n",
       "NÃO REGULAR        59\n",
       "Name: aeronave_tipo_operacao, dtype: int64"
      ]
     },
     "execution_count": 22,
     "metadata": {},
     "output_type": "execute_result"
    }
   ],
   "source": [
    "df2['aeronave_tipo_operacao'].value_counts()"
   ]
  },
  {
   "cell_type": "code",
   "execution_count": 23,
   "metadata": {},
   "outputs": [
    {
     "data": {
      "text/plain": [
       "PRIVADA          1888\n",
       "REGULAR          1177\n",
       "INSTRUÇÃO         784\n",
       "TÁXI AÉREO        754\n",
       "AGRÍCOLA          478\n",
       "EXPERIMENTAL      291\n",
       "POLICIAL          156\n",
       "ESPECIALIZADA      79\n",
       "NÃO REGULAR        59\n",
       "Name: aeronave_tipo_operacao, dtype: int64"
      ]
     },
     "execution_count": 23,
     "metadata": {},
     "output_type": "execute_result"
    }
   ],
   "source": [
    "df2['aeronave_tipo_operacao'].value_counts()"
   ]
  },
  {
   "cell_type": "markdown",
   "metadata": {},
   "source": [
    "** FATOR_CONTRIBUINTE.csv **"
   ]
  },
  {
   "cell_type": "code",
   "execution_count": 24,
   "metadata": {},
   "outputs": [],
   "source": [
    "# FATOR_CONTRIBUINTE.csv - Informações sobre os fatores contribuinte das ocorrências que tiveram investigações finalizadas.\n",
    "\n",
    "df3=pd.read_csv('dfator_contribuinte_2010_2020.csv', sep=';', encoding='utf8', na_values=['****', '***',''],  header=0)"
   ]
  },
  {
   "cell_type": "code",
   "execution_count": 25,
   "metadata": {},
   "outputs": [
    {
     "data": {
      "text/plain": [
       "(4161, 5)"
      ]
     },
     "execution_count": 25,
     "metadata": {},
     "output_type": "execute_result"
    }
   ],
   "source": [
    "df3.shape"
   ]
  },
  {
   "cell_type": "code",
   "execution_count": 26,
   "metadata": {},
   "outputs": [
    {
     "data": {
      "text/html": [
       "<div>\n",
       "<style scoped>\n",
       "    .dataframe tbody tr th:only-of-type {\n",
       "        vertical-align: middle;\n",
       "    }\n",
       "\n",
       "    .dataframe tbody tr th {\n",
       "        vertical-align: top;\n",
       "    }\n",
       "\n",
       "    .dataframe thead th {\n",
       "        text-align: right;\n",
       "    }\n",
       "</style>\n",
       "<table border=\"1\" class=\"dataframe\">\n",
       "  <thead>\n",
       "    <tr style=\"text-align: right;\">\n",
       "      <th></th>\n",
       "      <th>codigo_ocorrencia3</th>\n",
       "      <th>fator_nome</th>\n",
       "      <th>fator_aspecto</th>\n",
       "      <th>fator_condicionante</th>\n",
       "      <th>fator_area</th>\n",
       "    </tr>\n",
       "  </thead>\n",
       "  <tbody>\n",
       "    <tr>\n",
       "      <th>0</th>\n",
       "      <td>39115</td>\n",
       "      <td>APLICAÇÃO DE COMANDOS</td>\n",
       "      <td>DESEMPENHO DO SER HUMANO</td>\n",
       "      <td>OPERAÇÃO DA AERONAVE</td>\n",
       "      <td>FATOR OPERACIONAL</td>\n",
       "    </tr>\n",
       "    <tr>\n",
       "      <th>1</th>\n",
       "      <td>39115</td>\n",
       "      <td>JULGAMENTO DE PILOTAGEM</td>\n",
       "      <td>DESEMPENHO DO SER HUMANO</td>\n",
       "      <td>OPERAÇÃO DA AERONAVE</td>\n",
       "      <td>FATOR OPERACIONAL</td>\n",
       "    </tr>\n",
       "  </tbody>\n",
       "</table>\n",
       "</div>"
      ],
      "text/plain": [
       "   codigo_ocorrencia3               fator_nome             fator_aspecto  \\\n",
       "0               39115    APLICAÇÃO DE COMANDOS  DESEMPENHO DO SER HUMANO   \n",
       "1               39115  JULGAMENTO DE PILOTAGEM  DESEMPENHO DO SER HUMANO   \n",
       "\n",
       "    fator_condicionante         fator_area  \n",
       "0  OPERAÇÃO DA AERONAVE  FATOR OPERACIONAL  \n",
       "1  OPERAÇÃO DA AERONAVE  FATOR OPERACIONAL  "
      ]
     },
     "execution_count": 26,
     "metadata": {},
     "output_type": "execute_result"
    }
   ],
   "source": [
    "df3.head(2)"
   ]
  },
  {
   "cell_type": "code",
   "execution_count": 27,
   "metadata": {},
   "outputs": [
    {
     "data": {
      "text/plain": [
       "codigo_ocorrencia3       0\n",
       "fator_nome               0\n",
       "fator_aspecto           28\n",
       "fator_condicionante    400\n",
       "fator_area              28\n",
       "dtype: int64"
      ]
     },
     "execution_count": 27,
     "metadata": {},
     "output_type": "execute_result"
    }
   ],
   "source": [
    "df3.isnull().sum()"
   ]
  },
  {
   "cell_type": "markdown",
   "metadata": {},
   "source": [
    "** RECOMENDAÇÃO.csv **"
   ]
  },
  {
   "cell_type": "code",
   "execution_count": 28,
   "metadata": {},
   "outputs": [],
   "source": [
    "# RECOMENDAÇÃO.csv - Informações sobre as recomendações de segurança geradas nas ocorrências.\n",
    "\n",
    "df4=pd.read_csv('drecomendacao_2010_2020.csv', sep=';', encoding='utf8', na_values=['****', '***',''],  header=0)"
   ]
  },
  {
   "cell_type": "code",
   "execution_count": 29,
   "metadata": {},
   "outputs": [
    {
     "data": {
      "text/plain": [
       "(1742, 9)"
      ]
     },
     "execution_count": 29,
     "metadata": {},
     "output_type": "execute_result"
    }
   ],
   "source": [
    "df4.shape"
   ]
  },
  {
   "cell_type": "code",
   "execution_count": 30,
   "metadata": {},
   "outputs": [
    {
     "data": {
      "text/html": [
       "<div>\n",
       "<style scoped>\n",
       "    .dataframe tbody tr th:only-of-type {\n",
       "        vertical-align: middle;\n",
       "    }\n",
       "\n",
       "    .dataframe tbody tr th {\n",
       "        vertical-align: top;\n",
       "    }\n",
       "\n",
       "    .dataframe thead th {\n",
       "        text-align: right;\n",
       "    }\n",
       "</style>\n",
       "<table border=\"1\" class=\"dataframe\">\n",
       "  <thead>\n",
       "    <tr style=\"text-align: right;\">\n",
       "      <th></th>\n",
       "      <th>codigo_ocorrencia4</th>\n",
       "      <th>recomendacao_numero</th>\n",
       "      <th>recomendacao_dia_assinatura</th>\n",
       "      <th>recomendacao_dia_encaminhamento</th>\n",
       "      <th>recomendacao_dia_feedback</th>\n",
       "      <th>recomendacao_conteudo</th>\n",
       "      <th>recomendacao_status</th>\n",
       "      <th>recomendacao_destinatario_sigla</th>\n",
       "      <th>recomendacao_destinatario</th>\n",
       "    </tr>\n",
       "  </thead>\n",
       "  <tbody>\n",
       "    <tr>\n",
       "      <th>0</th>\n",
       "      <td>39115</td>\n",
       "      <td>095/2011</td>\n",
       "      <td>2011-07-21</td>\n",
       "      <td>2011-08-01</td>\n",
       "      <td>2015-12-21</td>\n",
       "      <td>Revisar os requisitos de experiência recente p...</td>\n",
       "      <td>NÃO CUMPRIDA</td>\n",
       "      <td>ANAC</td>\n",
       "      <td>AGÊNCIA NACIONAL DE AVIAÇÃO CIVIL</td>\n",
       "    </tr>\n",
       "    <tr>\n",
       "      <th>1</th>\n",
       "      <td>39115</td>\n",
       "      <td>096/2011</td>\n",
       "      <td>2011-07-21</td>\n",
       "      <td>2011-08-01</td>\n",
       "      <td>2011-09-16</td>\n",
       "      <td>Divulgar o presente relatório final aos operad...</td>\n",
       "      <td>CUMPRIDA</td>\n",
       "      <td>ANAC</td>\n",
       "      <td>AGÊNCIA NACIONAL DE AVIAÇÃO CIVIL</td>\n",
       "    </tr>\n",
       "  </tbody>\n",
       "</table>\n",
       "</div>"
      ],
      "text/plain": [
       "   codigo_ocorrencia4 recomendacao_numero recomendacao_dia_assinatura  \\\n",
       "0               39115            095/2011                  2011-07-21   \n",
       "1               39115            096/2011                  2011-07-21   \n",
       "\n",
       "  recomendacao_dia_encaminhamento recomendacao_dia_feedback  \\\n",
       "0                      2011-08-01                2015-12-21   \n",
       "1                      2011-08-01                2011-09-16   \n",
       "\n",
       "                               recomendacao_conteudo recomendacao_status  \\\n",
       "0  Revisar os requisitos de experiência recente p...        NÃO CUMPRIDA   \n",
       "1  Divulgar o presente relatório final aos operad...            CUMPRIDA   \n",
       "\n",
       "  recomendacao_destinatario_sigla          recomendacao_destinatario  \n",
       "0                            ANAC  AGÊNCIA NACIONAL DE AVIAÇÃO CIVIL  \n",
       "1                            ANAC  AGÊNCIA NACIONAL DE AVIAÇÃO CIVIL  "
      ]
     },
     "execution_count": 30,
     "metadata": {},
     "output_type": "execute_result"
    }
   ],
   "source": [
    "df4.head(2)"
   ]
  },
  {
   "cell_type": "code",
   "execution_count": 31,
   "metadata": {},
   "outputs": [
    {
     "data": {
      "text/plain": [
       "codigo_ocorrencia4                   0\n",
       "recomendacao_numero                  0\n",
       "recomendacao_dia_assinatura          0\n",
       "recomendacao_dia_encaminhamento      0\n",
       "recomendacao_dia_feedback          790\n",
       "recomendacao_conteudo                1\n",
       "recomendacao_status                 62\n",
       "recomendacao_destinatario_sigla      0\n",
       "recomendacao_destinatario            0\n",
       "dtype: int64"
      ]
     },
     "execution_count": 31,
     "metadata": {},
     "output_type": "execute_result"
    }
   ],
   "source": [
    "df4.isnull().sum()"
   ]
  },
  {
   "cell_type": "markdown",
   "metadata": {},
   "source": [
    "## Exploratório"
   ]
  },
  {
   "cell_type": "code",
   "execution_count": 32,
   "metadata": {},
   "outputs": [
    {
     "data": {
      "text/plain": [
       "BRASIL    5752\n",
       "Name: ocorrencia_pais, dtype: int64"
      ]
     },
     "execution_count": 32,
     "metadata": {},
     "output_type": "execute_result"
    }
   ],
   "source": [
    "# Quantas ocorrência por pais, cidade e UF\n",
    "\n",
    "df['ocorrencia_pais'].value_counts().head(10)"
   ]
  },
  {
   "cell_type": "code",
   "execution_count": 33,
   "metadata": {},
   "outputs": [
    {
     "data": {
      "text/plain": [
       "RIO DE JANEIRO    321\n",
       "SÃO PAULO         275\n",
       "BELO HORIZONTE    188\n",
       "GUARULHOS         153\n",
       "CAMPINAS          150\n",
       "GOIÂNIA           138\n",
       "LONDRINA          137\n",
       "BRASÍLIA          135\n",
       "MANAUS            103\n",
       "PORTO ALEGRE       99\n",
       "Name: ocorrencia_cidade, dtype: int64"
      ]
     },
     "execution_count": 33,
     "metadata": {},
     "output_type": "execute_result"
    }
   ],
   "source": [
    "df['ocorrencia_cidade'].value_counts().head(10)"
   ]
  },
  {
   "cell_type": "code",
   "execution_count": 34,
   "metadata": {},
   "outputs": [
    {
     "data": {
      "text/plain": [
       "SP    1373\n",
       "MG     529\n",
       "RJ     516\n",
       "PR     485\n",
       "RS     352\n",
       "GO     309\n",
       "MT     292\n",
       "PA     287\n",
       "AM     233\n",
       "BA     213\n",
       "Name: ocorrencia_uf, dtype: int64"
      ]
     },
     "execution_count": 34,
     "metadata": {},
     "output_type": "execute_result"
    }
   ],
   "source": [
    "df['ocorrencia_uf'].value_counts().head(10)"
   ]
  },
  {
   "cell_type": "code",
   "execution_count": 35,
   "metadata": {},
   "outputs": [
    {
     "data": {
      "text/plain": [
       "1    5686\n",
       "2      63\n",
       "3       3\n",
       "Name: total_aeronaves_envolvidas, dtype: int64"
      ]
     },
     "execution_count": 35,
     "metadata": {},
     "output_type": "execute_result"
    }
   ],
   "source": [
    "df['total_aeronaves_envolvidas'].value_counts().head(10)"
   ]
  },
  {
   "cell_type": "code",
   "execution_count": 36,
   "metadata": {},
   "outputs": [
    {
     "data": {
      "text/plain": [
       "0    5045\n",
       "1     303\n",
       "2     190\n",
       "3      87\n",
       "4      46\n",
       "5      20\n",
       "6      19\n",
       "9      13\n",
       "7       9\n",
       "8       8\n",
       "Name: total_recomendacoes, dtype: int64"
      ]
     },
     "execution_count": 36,
     "metadata": {},
     "output_type": "execute_result"
    }
   ],
   "source": [
    "df['total_recomendacoes'].value_counts().head(10)"
   ]
  },
  {
   "cell_type": "code",
   "execution_count": 37,
   "metadata": {},
   "outputs": [
    {
     "data": {
      "text/plain": [
       "20:00:00    123\n",
       "19:00:00     96\n",
       "13:30:00     94\n",
       "13:00:00     93\n",
       "18:30:00     87\n",
       "12:00:00     85\n",
       "20:30:00     83\n",
       "14:30:00     82\n",
       "18:00:00     81\n",
       "19:30:00     78\n",
       "Name: ocorrencia_hora, dtype: int64"
      ]
     },
     "execution_count": 37,
     "metadata": {},
     "output_type": "execute_result"
    }
   ],
   "source": [
    "df['ocorrencia_hora'].value_counts().head(10)"
   ]
  },
  {
   "cell_type": "code",
   "execution_count": 38,
   "metadata": {},
   "outputs": [
    {
     "data": {
      "text/plain": [
       "SBGR    140\n",
       "SBMT    126\n",
       "SBBH    106\n",
       "SBLO    100\n",
       "SBBR     88\n",
       "SBGL     83\n",
       "SBKP     76\n",
       "SBJR     76\n",
       "SBGO     73\n",
       "SBJD     72\n",
       "Name: ocorrencia_aerodromo, dtype: int64"
      ]
     },
     "execution_count": 38,
     "metadata": {},
     "output_type": "execute_result"
    }
   ],
   "source": [
    "df['ocorrencia_aerodromo'].value_counts().head(10)"
   ]
  },
  {
   "cell_type": "code",
   "execution_count": 39,
   "metadata": {},
   "outputs": [
    {
     "data": {
      "text/plain": [
       "INCIDENTE          3171\n",
       "ACIDENTE           1844\n",
       "INCIDENTE GRAVE     737\n",
       "Name: ocorrencia_classificacao, dtype: int64"
      ]
     },
     "execution_count": 39,
     "metadata": {},
     "output_type": "execute_result"
    }
   ],
   "source": [
    "df['ocorrencia_classificacao'].value_counts().head(10)"
   ]
  },
  {
   "cell_type": "code",
   "execution_count": 40,
   "metadata": {},
   "outputs": [
    {
     "data": {
      "text/plain": [
       "FALHA DO MOTOR EM VOO                                 723\n",
       "ESTOURO DE PNEU                                       614\n",
       "FALHA OU MAU FUNCIONAMENTO DE SISTEMA / COMPONENTE    612\n",
       "PERDA DE CONTROLE NO SOLO                             459\n",
       "PERDA DE CONTROLE EM VOO                              363\n",
       "                                                     ... \n",
       "HIPÓXIA                                                 1\n",
       "PERDA DE SEPARAÇÃO / COLISÃO EM VOO                     1\n",
       "IMC NÃO INTENCIONAL                                     1\n",
       "RELACIONADO COM SECURITY                                1\n",
       "PERDA DE CONDIÇÕES DE SUSTENTAÇÃO EM ROTA               1\n",
       "Name: ocorrencia_tipo, Length: 79, dtype: int64"
      ]
     },
     "execution_count": 40,
     "metadata": {},
     "output_type": "execute_result"
    }
   ],
   "source": [
    "df1['ocorrencia_tipo'].value_counts()"
   ]
  },
  {
   "cell_type": "code",
   "execution_count": 41,
   "metadata": {},
   "outputs": [
    {
     "data": {
      "text/plain": [
       "FALHA OU MAU FUNCIONAMENTO DO MOTOR | FALHA DO MOTOR EM VOO                  723\n",
       "FALHA OU MAU FUNCIONAMENTO DE SISTEMA / COMPONENTE | ESTOURO DE PNEU         614\n",
       "FALHA OU MAU FUNCIONAMENTO DE SISTEMA / COMPONENTE                           612\n",
       "PERDA DE CONTROLE NO SOLO                                                    459\n",
       "PERDA DE CONTROLE EM VOO                                                     363\n",
       "                                                                            ... \n",
       "PERDA DE SEPARAÇÃO / COLISÃO EM VOO | PERDA DE SEPARAÇÃO / COLISÃO EM VOO      1\n",
       "IMC NÃO INTENCIONAL                                                            1\n",
       "PERDA DE CONDIÇÕES DE SUSTENTAÇÃO EM ROTA                                      1\n",
       "OUTROS | HIPÓXIA                                                               1\n",
       "RELACIONADO COM SECURITY                                                       1\n",
       "Name: ocorrencia_tipo_categoria, Length: 79, dtype: int64"
      ]
     },
     "execution_count": 41,
     "metadata": {},
     "output_type": "execute_result"
    }
   ],
   "source": [
    "df1['ocorrencia_tipo_categoria'].value_counts()"
   ]
  },
  {
   "cell_type": "code",
   "execution_count": 42,
   "metadata": {},
   "outputs": [
    {
     "data": {
      "text/plain": [
       "FORA DE AERODROMO                        2733\n",
       "CAMPO DE MARTE                            104\n",
       "GOVERNADOR ANDRÉ FRANCO MONTORO            86\n",
       "VIRACOPOS                                  69\n",
       "CARLOS DRUMMOND DE ANDRADE / PAMPULHA      62\n",
       "PRESIDENTE JUSCELINO KUBITSCHEK            62\n",
       "AEROPORTO ESTADUAL DE JUNDIAÍ              59\n",
       "CONGONHAS                                  58\n",
       "SANTA GENOVEVA/GOIÂNIA                     57\n",
       "GOVERNADOR JOSÉ RICHA                      53\n",
       "Name: aeronave_voo_origem, dtype: int64"
      ]
     },
     "execution_count": 42,
     "metadata": {},
     "output_type": "execute_result"
    }
   ],
   "source": [
    "df2['aeronave_voo_origem'].value_counts().head(10)"
   ]
  },
  {
   "cell_type": "code",
   "execution_count": 43,
   "metadata": {},
   "outputs": [
    {
     "data": {
      "text/plain": [
       "FORA DE AERODROMO                        2733\n",
       "CAMPO DE MARTE                            104\n",
       "GOVERNADOR ANDRÉ FRANCO MONTORO            86\n",
       "VIRACOPOS                                  69\n",
       "CARLOS DRUMMOND DE ANDRADE / PAMPULHA      62\n",
       "PRESIDENTE JUSCELINO KUBITSCHEK            62\n",
       "AEROPORTO ESTADUAL DE JUNDIAÍ              59\n",
       "CONGONHAS                                  58\n",
       "SANTA GENOVEVA/GOIÂNIA                     57\n",
       "GOVERNADOR JOSÉ RICHA                      53\n",
       "Name: aeronave_voo_origem, dtype: int64"
      ]
     },
     "execution_count": 43,
     "metadata": {},
     "output_type": "execute_result"
    }
   ],
   "source": [
    "df2['aeronave_voo_origem'].value_counts().head(10)"
   ]
  },
  {
   "cell_type": "code",
   "execution_count": 44,
   "metadata": {},
   "outputs": [
    {
     "data": {
      "text/plain": [
       "FORA DE AERODROMO                  2832\n",
       "CAMPO DE MARTE                      106\n",
       "GOVERNADOR ANDRÉ FRANCO MONTORO      79\n",
       "CONGONHAS                            55\n",
       "PRESIDENTE JUSCELINO KUBITSCHEK      55\n",
       "AEROPORTO ESTADUAL DE JUNDIAÍ        51\n",
       "VIRACOPOS                            49\n",
       "BACACHERI                            48\n",
       "GOVERNADOR JOSÉ RICHA                47\n",
       "SALGADO FILHO                        44\n",
       "Name: aeronave_voo_destino, dtype: int64"
      ]
     },
     "execution_count": 44,
     "metadata": {},
     "output_type": "execute_result"
    }
   ],
   "source": [
    "df2['aeronave_voo_destino'].value_counts().head(10)"
   ]
  },
  {
   "cell_type": "code",
   "execution_count": 45,
   "metadata": {},
   "outputs": [
    {
     "data": {
      "text/plain": [
       "0     5383\n",
       "1      226\n",
       "2      119\n",
       "3       31\n",
       "4       30\n",
       "5       17\n",
       "6        6\n",
       "7        4\n",
       "8        3\n",
       "10       1\n",
       "Name: aeronave_fatalidades_total, dtype: int64"
      ]
     },
     "execution_count": 45,
     "metadata": {},
     "output_type": "execute_result"
    }
   ],
   "source": [
    "df2['aeronave_fatalidades_total'].value_counts().head(10)"
   ]
  },
  {
   "cell_type": "code",
   "execution_count": 46,
   "metadata": {},
   "outputs": [
    {
     "data": {
      "text/plain": [
       "5821"
      ]
     },
     "execution_count": 46,
     "metadata": {},
     "output_type": "execute_result"
    }
   ],
   "source": [
    "df2['aeronave_fatalidades_total'].count()"
   ]
  },
  {
   "cell_type": "code",
   "execution_count": 47,
   "metadata": {},
   "outputs": [
    {
     "data": {
      "text/plain": [
       "JULGAMENTO DE PILOTAGEM        553\n",
       "APLICAÇÃO DE COMANDOS          382\n",
       "SUPERVISÃO GERENCIAL           331\n",
       "PLANEJAMENTO DE VOO            302\n",
       "MANUTENÇÃO DA AERONAVE         247\n",
       "PROCESSO DECISÓRIO             204\n",
       "ATITUDE                        176\n",
       "POUCA EXPERIÊNCIA DO PILOTO    171\n",
       "INDISCIPLINA DE VOO            150\n",
       "PERCEPÇÃO                      129\n",
       "Name: fator_nome, dtype: int64"
      ]
     },
     "execution_count": 47,
     "metadata": {},
     "output_type": "execute_result"
    }
   ],
   "source": [
    "df3['fator_nome'].value_counts().head(10)"
   ]
  },
  {
   "cell_type": "code",
   "execution_count": 48,
   "metadata": {},
   "outputs": [
    {
     "data": {
      "text/plain": [
       "DESEMPENHO DO SER HUMANO                          2523\n",
       "ASPECTO PSICOLÓGICO                               1238\n",
       "ELEMENTOS RELACIONADOS AO AMBIENTE OPERACIONAL     114\n",
       "ASPECTO MÉDICO                                      78\n",
       "INFRAESTRUTURA AEROPORTUÁRIA                        74\n",
       "OUTRO                                               62\n",
       "ASPECTO DE FABRICAÇÃO                               13\n",
       "INFRAESTRUTURA DE TRÁFEGO AÉREO                      9\n",
       "ERGONOMIA                                            9\n",
       "ASPECTO DE PROJETO                                   8\n",
       "ASPECTO DE MANUSEIO DO MATERIAL                      5\n",
       "Name: fator_aspecto, dtype: int64"
      ]
     },
     "execution_count": 48,
     "metadata": {},
     "output_type": "execute_result"
    }
   ],
   "source": [
    "df3['fator_aspecto'].value_counts()"
   ]
  },
  {
   "cell_type": "code",
   "execution_count": 49,
   "metadata": {},
   "outputs": [
    {
     "data": {
      "text/plain": [
       "OPERAÇÃO DA AERONAVE                      2257\n",
       "INDIVIDUAL                                 743\n",
       "ORGANIZACIONAL                             352\n",
       "MANUTENÇÃO DA AERONAVE                     247\n",
       "PSICOSSOCIAL                               143\n",
       "PRESTAÇÃO DE SERVIÇOS DE TRÁFEGO AÉREO      19\n",
       "Name: fator_condicionante, dtype: int64"
      ]
     },
     "execution_count": 49,
     "metadata": {},
     "output_type": "execute_result"
    }
   ],
   "source": [
    "df3['fator_condicionante'].value_counts()"
   ]
  },
  {
   "cell_type": "code",
   "execution_count": 50,
   "metadata": {},
   "outputs": [
    {
     "data": {
      "text/plain": [
       "FATOR OPERACIONAL    2720\n",
       "FATOR HUMANO         1325\n",
       "OUTRO                  62\n",
       "FATOR MATERIAL         26\n",
       "Name: fator_area, dtype: int64"
      ]
     },
     "execution_count": 50,
     "metadata": {},
     "output_type": "execute_result"
    }
   ],
   "source": [
    "df3['fator_area'].value_counts()"
   ]
  },
  {
   "cell_type": "code",
   "execution_count": 51,
   "metadata": {},
   "outputs": [
    {
     "data": {
      "text/plain": [
       "AGÊNCIA NACIONAL DE AVIAÇÃO CIVIL                              1431\n",
       "DEPARTAMENTO DE CONTROLE DE ESPAÇO AÉREO                         49\n",
       "PASSAREDO LINHAS AÉREAS                                          14\n",
       "SINDICATO NACIONAL DAS EMPRESAS DE AVIAÇÃO AGRÍCOLA              13\n",
       "LET AIRCRAFT INDUSTRIES                                          13\n",
       "OPERADOR DA AERONAVE                                             12\n",
       "OCEANAIR TÁXI AÉREO                                              11\n",
       "AGÊNCIA NACIONAL DO PETRÓLEO, GÁS NATURAL E BIOCOMBUSTÍVEIS       8\n",
       "AEROSAFRA AVIAÇÃO AGRÍCOLA                                        7\n",
       "DEPARTAMENTO DE POLÍCIA RODOVIÁRIA FEDERAL                        7\n",
       "Name: recomendacao_destinatario, dtype: int64"
      ]
     },
     "execution_count": 51,
     "metadata": {},
     "output_type": "execute_result"
    }
   ],
   "source": [
    "df4['recomendacao_destinatario'].value_counts().head(10)"
   ]
  },
  {
   "cell_type": "code",
   "execution_count": 52,
   "metadata": {},
   "outputs": [
    {
     "data": {
      "text/plain": [
       "CUMPRIDA                         1032\n",
       "AGUARDANDO RESPOSTA               409\n",
       "CUMPRIDA DE FORMA ALTERNATIVA     121\n",
       "NÃO CUMPRIDA                      118\n",
       "Name: recomendacao_status, dtype: int64"
      ]
     },
     "execution_count": 52,
     "metadata": {},
     "output_type": "execute_result"
    }
   ],
   "source": [
    "df4['recomendacao_status'].value_counts()"
   ]
  },
  {
   "cell_type": "code",
   "execution_count": 53,
   "metadata": {},
   "outputs": [
    {
     "data": {
      "text/plain": [
       "Divulgar o presente relatório final aos aeroclubes e escolas de aviação de suas áreas de atuação.                                                                                                                                                                                                                                                            7\n",
       "Divulgar os ensinamentos deste acidente aeronáutico em sua área de atuação, enfatizando a necessidade de atentar para as técnicas previstas para a decolagem de máxima performance.                                                                                                                                                                          7\n",
       "Divulgar os ensinamentos deste relatório em sua área de atuação durante a realização de seminários, palestras e atividades afins.                                                                                                                                                                                                                            7\n",
       "Divulgar o conteúdo do presente relatório durante a realização de seminários, palestras e atividades afins voltadas aos proprietários, operadores e exploradores de aeronaves.                                                                                                                                                                               7\n",
       "Divulgar o conteúdo do Relatório Final deste acidente aos operadores de aeronave R44 de sua área de atuação.                                                                                                                                                                                                                                                 7\n",
       "Divulgar o conteúdo do presente relatório durante a realização de seminários, palestras e atividades afins voltadas aos proprietários, operadores e exploradores de aeronaves agrícolas.                                                                                                                                                                     6\n",
       "Divulgar o conteúdo do presente relatório durante a realização de seminários, palestras e atividades afins voltadas aos proprietários, operadores e exploradores de aeronaves de asas rotativas.                                                                                                                                                             5\n",
       "\"Realizar o treinamento inicial e recorrente de  \"\"Falha do Motor Durante a Decolagem - Depois da V1\"\", de acordo com o  L 410 Aircraft Pilot Type Training Program, item 5, páginas 13 e 14.\"                                                                                                                                                               4\n",
       "Realizar o treinamento de emergências durante o treinamento inicial, parte prática de solo, conforme o Programa de Treinamento do fabricante (L 410 Aircraft Pilot Type Training Program), item B, página 10.                                                                                                                                                4\n",
       "ATUAR JUNTO A FOLIARAVIAçãO AGRíCOLA LTDA., A FIM DE ENFATIZAR àQUELE OPERADOR A IMPORTâNCIA DE SE OBSERVAR O CONSTANTE NO ART. 88-N DO CóDIGO BRASILEIRO DE AERONáUTICA QUE, SALVO NOS CASOS EXCEPCIONAIS ESTABELECIDOS, PROíBE A REMOçãO DE AERONAVES ACIDENTADAS DO LOCAL DA OCORRêNCIA SEM A DEVIDA AUTORIZAçãO DA AUTORIDADE DE INVESTIGAçãO SIPAER.    2\n",
       "Name: recomendacao_conteudo, dtype: int64"
      ]
     },
     "execution_count": 53,
     "metadata": {},
     "output_type": "execute_result"
    }
   ],
   "source": [
    "df4['recomendacao_conteudo'].value_counts().head(10)"
   ]
  },
  {
   "cell_type": "code",
   "execution_count": 54,
   "metadata": {},
   "outputs": [
    {
     "name": "stdout",
     "output_type": "stream",
     "text": [
      "(5752, 22)\n",
      "(5884, 4)\n",
      "(5821, 23)\n",
      "(4161, 5)\n",
      "(1742, 9)\n"
     ]
    }
   ],
   "source": [
    "# Quantidade de linhas e colunas de cadas df\n",
    "\n",
    "print(df.shape)\n",
    "print(df1.shape)\n",
    "print(df2.shape)\n",
    "print(df3.shape)\n",
    "print(df4.shape)"
   ]
  },
  {
   "cell_type": "markdown",
   "metadata": {},
   "source": [
    "# Join de tabelas"
   ]
  },
  {
   "cell_type": "code",
   "execution_count": 55,
   "metadata": {},
   "outputs": [],
   "source": [
    "# Realizar o join de tabelas observando o relacionamento: one_to_one” or “1:1” / “one_to_many” or “1:m”/ “many_to_one” or “m:1”\n",
    "# “many_to_many” or “m:m”\n",
    "\n",
    "df_new=df.merge(df1, how = \"inner\", on ='codigo_ocorrencia1',validate='one_to_many' )"
   ]
  },
  {
   "cell_type": "code",
   "execution_count": 56,
   "metadata": {},
   "outputs": [
    {
     "data": {
      "text/plain": [
       "(5884, 25)"
      ]
     },
     "execution_count": 56,
     "metadata": {},
     "output_type": "execute_result"
    }
   ],
   "source": [
    "# Conferir quantidade de linhas e colunas\n",
    "df_new.shape"
   ]
  },
  {
   "cell_type": "code",
   "execution_count": 57,
   "metadata": {},
   "outputs": [
    {
     "data": {
      "text/html": [
       "<div>\n",
       "<style scoped>\n",
       "    .dataframe tbody tr th:only-of-type {\n",
       "        vertical-align: middle;\n",
       "    }\n",
       "\n",
       "    .dataframe tbody tr th {\n",
       "        vertical-align: top;\n",
       "    }\n",
       "\n",
       "    .dataframe thead th {\n",
       "        text-align: right;\n",
       "    }\n",
       "</style>\n",
       "<table border=\"1\" class=\"dataframe\">\n",
       "  <thead>\n",
       "    <tr style=\"text-align: right;\">\n",
       "      <th></th>\n",
       "      <th>codigo_ocorrencia</th>\n",
       "      <th>codigo_ocorrencia1</th>\n",
       "      <th>codigo_ocorrencia2</th>\n",
       "      <th>codigo_ocorrencia3</th>\n",
       "      <th>codigo_ocorrencia4</th>\n",
       "      <th>ocorrencia_classificacao</th>\n",
       "      <th>ocorrencia_latitude</th>\n",
       "      <th>ocorrencia_longitude</th>\n",
       "      <th>ocorrencia_cidade</th>\n",
       "      <th>ocorrencia_uf</th>\n",
       "      <th>...</th>\n",
       "      <th>investigacao_status</th>\n",
       "      <th>divulgacao_relatorio_numero</th>\n",
       "      <th>divulgacao_relatorio_publicado</th>\n",
       "      <th>divulgacao_dia_publicacao</th>\n",
       "      <th>total_recomendacoes</th>\n",
       "      <th>total_aeronaves_envolvidas</th>\n",
       "      <th>ocorrencia_saida_pista</th>\n",
       "      <th>ocorrencia_tipo</th>\n",
       "      <th>ocorrencia_tipo_categoria</th>\n",
       "      <th>taxonomia_tipo_icao</th>\n",
       "    </tr>\n",
       "  </thead>\n",
       "  <tbody>\n",
       "    <tr>\n",
       "      <th>0</th>\n",
       "      <td>40211</td>\n",
       "      <td>40211</td>\n",
       "      <td>40211</td>\n",
       "      <td>40211</td>\n",
       "      <td>40211</td>\n",
       "      <td>INCIDENTE</td>\n",
       "      <td>NaN</td>\n",
       "      <td>NaN</td>\n",
       "      <td>RIO DE JANEIRO</td>\n",
       "      <td>RJ</td>\n",
       "      <td>...</td>\n",
       "      <td>FINALIZADA</td>\n",
       "      <td>NaN</td>\n",
       "      <td>NÃO</td>\n",
       "      <td>NaN</td>\n",
       "      <td>0</td>\n",
       "      <td>1</td>\n",
       "      <td>NÃO</td>\n",
       "      <td>TRÁFEGO AÉREO</td>\n",
       "      <td>PERDA DE SEPARAÇÃO / COLISÃO EM VOO | TRÁFEGO ...</td>\n",
       "      <td>MAC</td>\n",
       "    </tr>\n",
       "    <tr>\n",
       "      <th>1</th>\n",
       "      <td>40349</td>\n",
       "      <td>40349</td>\n",
       "      <td>40349</td>\n",
       "      <td>40349</td>\n",
       "      <td>40349</td>\n",
       "      <td>INCIDENTE</td>\n",
       "      <td>NaN</td>\n",
       "      <td>NaN</td>\n",
       "      <td>BELÉM</td>\n",
       "      <td>PA</td>\n",
       "      <td>...</td>\n",
       "      <td>FINALIZADA</td>\n",
       "      <td>NaN</td>\n",
       "      <td>NÃO</td>\n",
       "      <td>NaN</td>\n",
       "      <td>0</td>\n",
       "      <td>1</td>\n",
       "      <td>NÃO</td>\n",
       "      <td>COLISÃO COM AVE</td>\n",
       "      <td>COLISÃO COM AVE</td>\n",
       "      <td>BIRD</td>\n",
       "    </tr>\n",
       "  </tbody>\n",
       "</table>\n",
       "<p>2 rows × 25 columns</p>\n",
       "</div>"
      ],
      "text/plain": [
       "   codigo_ocorrencia  codigo_ocorrencia1  codigo_ocorrencia2  \\\n",
       "0              40211               40211               40211   \n",
       "1              40349               40349               40349   \n",
       "\n",
       "   codigo_ocorrencia3  codigo_ocorrencia4 ocorrencia_classificacao  \\\n",
       "0               40211               40211                INCIDENTE   \n",
       "1               40349               40349                INCIDENTE   \n",
       "\n",
       "  ocorrencia_latitude ocorrencia_longitude ocorrencia_cidade ocorrencia_uf  \\\n",
       "0                 NaN                  NaN    RIO DE JANEIRO            RJ   \n",
       "1                 NaN                  NaN             BELÉM            PA   \n",
       "\n",
       "   ... investigacao_status divulgacao_relatorio_numero  \\\n",
       "0  ...          FINALIZADA                         NaN   \n",
       "1  ...          FINALIZADA                         NaN   \n",
       "\n",
       "  divulgacao_relatorio_publicado divulgacao_dia_publicacao  \\\n",
       "0                            NÃO                       NaN   \n",
       "1                            NÃO                       NaN   \n",
       "\n",
       "  total_recomendacoes total_aeronaves_envolvidas ocorrencia_saida_pista  \\\n",
       "0                   0                          1                    NÃO   \n",
       "1                   0                          1                    NÃO   \n",
       "\n",
       "   ocorrencia_tipo                          ocorrencia_tipo_categoria  \\\n",
       "0    TRÁFEGO AÉREO  PERDA DE SEPARAÇÃO / COLISÃO EM VOO | TRÁFEGO ...   \n",
       "1  COLISÃO COM AVE                                    COLISÃO COM AVE   \n",
       "\n",
       "   taxonomia_tipo_icao  \n",
       "0                  MAC  \n",
       "1                 BIRD  \n",
       "\n",
       "[2 rows x 25 columns]"
      ]
     },
     "execution_count": 57,
     "metadata": {},
     "output_type": "execute_result"
    }
   ],
   "source": [
    "df_new.head(2)"
   ]
  },
  {
   "cell_type": "code",
   "execution_count": 58,
   "metadata": {},
   "outputs": [],
   "source": [
    "df_new1=df_new.merge(df2, how = \"inner\", on ='codigo_ocorrencia2',validate='many_to_many' )"
   ]
  },
  {
   "cell_type": "code",
   "execution_count": 59,
   "metadata": {},
   "outputs": [
    {
     "data": {
      "text/plain": [
       "(5953, 47)"
      ]
     },
     "execution_count": 59,
     "metadata": {},
     "output_type": "execute_result"
    }
   ],
   "source": [
    "df_new1.shape"
   ]
  },
  {
   "cell_type": "code",
   "execution_count": 60,
   "metadata": {},
   "outputs": [],
   "source": [
    "df_new2=df_new1.merge(df3, how = \"inner\", on ='codigo_ocorrencia3',validate='many_to_many' )"
   ]
  },
  {
   "cell_type": "code",
   "execution_count": 61,
   "metadata": {},
   "outputs": [
    {
     "data": {
      "text/plain": [
       "(4424, 51)"
      ]
     },
     "execution_count": 61,
     "metadata": {},
     "output_type": "execute_result"
    }
   ],
   "source": [
    "df_new2.shape"
   ]
  },
  {
   "cell_type": "code",
   "execution_count": 62,
   "metadata": {},
   "outputs": [],
   "source": [
    "aero=df_new2.merge(df4, how = \"inner\", on ='codigo_ocorrencia4' )"
   ]
  },
  {
   "cell_type": "code",
   "execution_count": 63,
   "metadata": {},
   "outputs": [
    {
     "data": {
      "text/plain": [
       "(10533, 59)"
      ]
     },
     "execution_count": 63,
     "metadata": {},
     "output_type": "execute_result"
    }
   ],
   "source": [
    "aero.shape"
   ]
  },
  {
   "cell_type": "code",
   "execution_count": 64,
   "metadata": {},
   "outputs": [
    {
     "data": {
      "text/html": [
       "<div>\n",
       "<style scoped>\n",
       "    .dataframe tbody tr th:only-of-type {\n",
       "        vertical-align: middle;\n",
       "    }\n",
       "\n",
       "    .dataframe tbody tr th {\n",
       "        vertical-align: top;\n",
       "    }\n",
       "\n",
       "    .dataframe thead th {\n",
       "        text-align: right;\n",
       "    }\n",
       "</style>\n",
       "<table border=\"1\" class=\"dataframe\">\n",
       "  <thead>\n",
       "    <tr style=\"text-align: right;\">\n",
       "      <th></th>\n",
       "      <th>codigo_ocorrencia</th>\n",
       "      <th>codigo_ocorrencia1</th>\n",
       "      <th>codigo_ocorrencia2</th>\n",
       "      <th>codigo_ocorrencia3</th>\n",
       "      <th>codigo_ocorrencia4</th>\n",
       "      <th>ocorrencia_classificacao</th>\n",
       "      <th>ocorrencia_latitude</th>\n",
       "      <th>ocorrencia_longitude</th>\n",
       "      <th>ocorrencia_cidade</th>\n",
       "      <th>ocorrencia_uf</th>\n",
       "      <th>...</th>\n",
       "      <th>fator_condicionante</th>\n",
       "      <th>fator_area</th>\n",
       "      <th>recomendacao_numero</th>\n",
       "      <th>recomendacao_dia_assinatura</th>\n",
       "      <th>recomendacao_dia_encaminhamento</th>\n",
       "      <th>recomendacao_dia_feedback</th>\n",
       "      <th>recomendacao_conteudo</th>\n",
       "      <th>recomendacao_status</th>\n",
       "      <th>recomendacao_destinatario_sigla</th>\n",
       "      <th>recomendacao_destinatario</th>\n",
       "    </tr>\n",
       "  </thead>\n",
       "  <tbody>\n",
       "    <tr>\n",
       "      <th>0</th>\n",
       "      <td>39707</td>\n",
       "      <td>39707</td>\n",
       "      <td>39707</td>\n",
       "      <td>39707</td>\n",
       "      <td>39707</td>\n",
       "      <td>INCIDENTE GRAVE</td>\n",
       "      <td>-6.5319444444</td>\n",
       "      <td>-64.3805555556</td>\n",
       "      <td>CANUTAMA</td>\n",
       "      <td>AM</td>\n",
       "      <td>...</td>\n",
       "      <td>OPERAÇÃO DA AERONAVE</td>\n",
       "      <td>FATOR OPERACIONAL</td>\n",
       "      <td>088/2011</td>\n",
       "      <td>2011-07-21</td>\n",
       "      <td>2011-08-09</td>\n",
       "      <td>NaN</td>\n",
       "      <td>Impedir a operação a operação de aeronaves até...</td>\n",
       "      <td>AGUARDANDO RESPOSTA</td>\n",
       "      <td>PREF-CANUTAMA</td>\n",
       "      <td>PREFEITURA MUNICIPAL DE CANUTAMA-AM</td>\n",
       "    </tr>\n",
       "    <tr>\n",
       "      <th>1</th>\n",
       "      <td>39707</td>\n",
       "      <td>39707</td>\n",
       "      <td>39707</td>\n",
       "      <td>39707</td>\n",
       "      <td>39707</td>\n",
       "      <td>INCIDENTE GRAVE</td>\n",
       "      <td>-6.5319444444</td>\n",
       "      <td>-64.3805555556</td>\n",
       "      <td>CANUTAMA</td>\n",
       "      <td>AM</td>\n",
       "      <td>...</td>\n",
       "      <td>OPERAÇÃO DA AERONAVE</td>\n",
       "      <td>FATOR OPERACIONAL</td>\n",
       "      <td>089/2011</td>\n",
       "      <td>2011-07-21</td>\n",
       "      <td>2011-08-09</td>\n",
       "      <td>NaN</td>\n",
       "      <td>Viabilizar estudos e projetos de infra-estrutu...</td>\n",
       "      <td>AGUARDANDO RESPOSTA</td>\n",
       "      <td>PREF-CANUTAMA</td>\n",
       "      <td>PREFEITURA MUNICIPAL DE CANUTAMA-AM</td>\n",
       "    </tr>\n",
       "    <tr>\n",
       "      <th>2</th>\n",
       "      <td>39707</td>\n",
       "      <td>39707</td>\n",
       "      <td>39707</td>\n",
       "      <td>39707</td>\n",
       "      <td>39707</td>\n",
       "      <td>INCIDENTE GRAVE</td>\n",
       "      <td>-6.5319444444</td>\n",
       "      <td>-64.3805555556</td>\n",
       "      <td>CANUTAMA</td>\n",
       "      <td>AM</td>\n",
       "      <td>...</td>\n",
       "      <td>OPERAÇÃO DA AERONAVE</td>\n",
       "      <td>FATOR OPERACIONAL</td>\n",
       "      <td>090/2011</td>\n",
       "      <td>2011-07-21</td>\n",
       "      <td>2011-08-09</td>\n",
       "      <td>NaN</td>\n",
       "      <td>Propor a homologação do aeródromo à Agência Na...</td>\n",
       "      <td>AGUARDANDO RESPOSTA</td>\n",
       "      <td>PREF-CANUTAMA</td>\n",
       "      <td>PREFEITURA MUNICIPAL DE CANUTAMA-AM</td>\n",
       "    </tr>\n",
       "    <tr>\n",
       "      <th>3</th>\n",
       "      <td>39707</td>\n",
       "      <td>39707</td>\n",
       "      <td>39707</td>\n",
       "      <td>39707</td>\n",
       "      <td>39707</td>\n",
       "      <td>INCIDENTE GRAVE</td>\n",
       "      <td>-6.5319444444</td>\n",
       "      <td>-64.3805555556</td>\n",
       "      <td>CANUTAMA</td>\n",
       "      <td>AM</td>\n",
       "      <td>...</td>\n",
       "      <td>MANUTENÇÃO DA AERONAVE</td>\n",
       "      <td>FATOR OPERACIONAL</td>\n",
       "      <td>088/2011</td>\n",
       "      <td>2011-07-21</td>\n",
       "      <td>2011-08-09</td>\n",
       "      <td>NaN</td>\n",
       "      <td>Impedir a operação a operação de aeronaves até...</td>\n",
       "      <td>AGUARDANDO RESPOSTA</td>\n",
       "      <td>PREF-CANUTAMA</td>\n",
       "      <td>PREFEITURA MUNICIPAL DE CANUTAMA-AM</td>\n",
       "    </tr>\n",
       "    <tr>\n",
       "      <th>4</th>\n",
       "      <td>39707</td>\n",
       "      <td>39707</td>\n",
       "      <td>39707</td>\n",
       "      <td>39707</td>\n",
       "      <td>39707</td>\n",
       "      <td>INCIDENTE GRAVE</td>\n",
       "      <td>-6.5319444444</td>\n",
       "      <td>-64.3805555556</td>\n",
       "      <td>CANUTAMA</td>\n",
       "      <td>AM</td>\n",
       "      <td>...</td>\n",
       "      <td>MANUTENÇÃO DA AERONAVE</td>\n",
       "      <td>FATOR OPERACIONAL</td>\n",
       "      <td>089/2011</td>\n",
       "      <td>2011-07-21</td>\n",
       "      <td>2011-08-09</td>\n",
       "      <td>NaN</td>\n",
       "      <td>Viabilizar estudos e projetos de infra-estrutu...</td>\n",
       "      <td>AGUARDANDO RESPOSTA</td>\n",
       "      <td>PREF-CANUTAMA</td>\n",
       "      <td>PREFEITURA MUNICIPAL DE CANUTAMA-AM</td>\n",
       "    </tr>\n",
       "  </tbody>\n",
       "</table>\n",
       "<p>5 rows × 59 columns</p>\n",
       "</div>"
      ],
      "text/plain": [
       "   codigo_ocorrencia  codigo_ocorrencia1  codigo_ocorrencia2  \\\n",
       "0              39707               39707               39707   \n",
       "1              39707               39707               39707   \n",
       "2              39707               39707               39707   \n",
       "3              39707               39707               39707   \n",
       "4              39707               39707               39707   \n",
       "\n",
       "   codigo_ocorrencia3  codigo_ocorrencia4 ocorrencia_classificacao  \\\n",
       "0               39707               39707          INCIDENTE GRAVE   \n",
       "1               39707               39707          INCIDENTE GRAVE   \n",
       "2               39707               39707          INCIDENTE GRAVE   \n",
       "3               39707               39707          INCIDENTE GRAVE   \n",
       "4               39707               39707          INCIDENTE GRAVE   \n",
       "\n",
       "  ocorrencia_latitude ocorrencia_longitude ocorrencia_cidade ocorrencia_uf  \\\n",
       "0       -6.5319444444       -64.3805555556          CANUTAMA            AM   \n",
       "1       -6.5319444444       -64.3805555556          CANUTAMA            AM   \n",
       "2       -6.5319444444       -64.3805555556          CANUTAMA            AM   \n",
       "3       -6.5319444444       -64.3805555556          CANUTAMA            AM   \n",
       "4       -6.5319444444       -64.3805555556          CANUTAMA            AM   \n",
       "\n",
       "   ...     fator_condicionante         fator_area recomendacao_numero  \\\n",
       "0  ...    OPERAÇÃO DA AERONAVE  FATOR OPERACIONAL            088/2011   \n",
       "1  ...    OPERAÇÃO DA AERONAVE  FATOR OPERACIONAL            089/2011   \n",
       "2  ...    OPERAÇÃO DA AERONAVE  FATOR OPERACIONAL            090/2011   \n",
       "3  ...  MANUTENÇÃO DA AERONAVE  FATOR OPERACIONAL            088/2011   \n",
       "4  ...  MANUTENÇÃO DA AERONAVE  FATOR OPERACIONAL            089/2011   \n",
       "\n",
       "  recomendacao_dia_assinatura recomendacao_dia_encaminhamento  \\\n",
       "0                  2011-07-21                      2011-08-09   \n",
       "1                  2011-07-21                      2011-08-09   \n",
       "2                  2011-07-21                      2011-08-09   \n",
       "3                  2011-07-21                      2011-08-09   \n",
       "4                  2011-07-21                      2011-08-09   \n",
       "\n",
       "  recomendacao_dia_feedback  \\\n",
       "0                       NaN   \n",
       "1                       NaN   \n",
       "2                       NaN   \n",
       "3                       NaN   \n",
       "4                       NaN   \n",
       "\n",
       "                               recomendacao_conteudo  recomendacao_status  \\\n",
       "0  Impedir a operação a operação de aeronaves até...  AGUARDANDO RESPOSTA   \n",
       "1  Viabilizar estudos e projetos de infra-estrutu...  AGUARDANDO RESPOSTA   \n",
       "2  Propor a homologação do aeródromo à Agência Na...  AGUARDANDO RESPOSTA   \n",
       "3  Impedir a operação a operação de aeronaves até...  AGUARDANDO RESPOSTA   \n",
       "4  Viabilizar estudos e projetos de infra-estrutu...  AGUARDANDO RESPOSTA   \n",
       "\n",
       "  recomendacao_destinatario_sigla            recomendacao_destinatario  \n",
       "0                   PREF-CANUTAMA  PREFEITURA MUNICIPAL DE CANUTAMA-AM  \n",
       "1                   PREF-CANUTAMA  PREFEITURA MUNICIPAL DE CANUTAMA-AM  \n",
       "2                   PREF-CANUTAMA  PREFEITURA MUNICIPAL DE CANUTAMA-AM  \n",
       "3                   PREF-CANUTAMA  PREFEITURA MUNICIPAL DE CANUTAMA-AM  \n",
       "4                   PREF-CANUTAMA  PREFEITURA MUNICIPAL DE CANUTAMA-AM  \n",
       "\n",
       "[5 rows x 59 columns]"
      ]
     },
     "execution_count": 64,
     "metadata": {},
     "output_type": "execute_result"
    }
   ],
   "source": [
    "# Dataset final, verificar dados do df\n",
    "\n",
    "aero.head()"
   ]
  },
  {
   "cell_type": "code",
   "execution_count": 65,
   "metadata": {},
   "outputs": [
    {
     "data": {
      "text/plain": [
       "codigo_ocorrencia                      0\n",
       "codigo_ocorrencia1                     0\n",
       "codigo_ocorrencia2                     0\n",
       "codigo_ocorrencia3                     0\n",
       "codigo_ocorrencia4                     0\n",
       "ocorrencia_classificacao               0\n",
       "ocorrencia_latitude                  234\n",
       "ocorrencia_longitude                 234\n",
       "ocorrencia_cidade                      0\n",
       "ocorrencia_uf                          0\n",
       "ocorrencia_pais                        0\n",
       "ocorrencia_aerodromo                5276\n",
       "ocorrencia_dia                         0\n",
       "ocorrencia_hora                        0\n",
       "investigacao_aeronave_liberada      2449\n",
       "investigacao_status                    0\n",
       "divulgacao_relatorio_numero           15\n",
       "divulgacao_relatorio_publicado         0\n",
       "divulgacao_dia_publicacao              2\n",
       "total_recomendacoes                    0\n",
       "total_aeronaves_envolvidas             0\n",
       "ocorrencia_saida_pista                 0\n",
       "ocorrencia_tipo                        0\n",
       "ocorrencia_tipo_categoria              0\n",
       "taxonomia_tipo_icao                    0\n",
       "aeronave_matricula                     0\n",
       "aeronave_operador_categoria        10520\n",
       "aeronave_tipo_veiculo                 31\n",
       "aeronave_fabricante                   34\n",
       "aeronave_modelo                       19\n",
       "aeronave_tipo_icao                   138\n",
       "aeronave_motor_tipo                   34\n",
       "aeronave_motor_quantidade             21\n",
       "aeronave_pmd                           0\n",
       "aeronave_pmd_categoria                 0\n",
       "aeronave_assentos                     46\n",
       "aeronave_ano_fabricacao               43\n",
       "aeronave_pais_fabricante               0\n",
       "aeronave_pais_registro                 0\n",
       "aeronave_registro_categoria           31\n",
       "aeronave_registro_segmento           175\n",
       "aeronave_voo_origem                   44\n",
       "aeronave_voo_destino                  26\n",
       "aeronave_fase_operacao                 0\n",
       "aeronave_tipo_operacao               127\n",
       "aeronave_nivel_dano                   21\n",
       "aeronave_fatalidades_total             0\n",
       "fator_nome                             0\n",
       "fator_aspecto                         53\n",
       "fator_condicionante                 1095\n",
       "fator_area                            53\n",
       "recomendacao_numero                    0\n",
       "recomendacao_dia_assinatura            0\n",
       "recomendacao_dia_encaminhamento        0\n",
       "recomendacao_dia_feedback           4533\n",
       "recomendacao_conteudo                  1\n",
       "recomendacao_status                  254\n",
       "recomendacao_destinatario_sigla        0\n",
       "recomendacao_destinatario              0\n",
       "dtype: int64"
      ]
     },
     "execution_count": 65,
     "metadata": {},
     "output_type": "execute_result"
    }
   ],
   "source": [
    "# Verificar quantidade de dados nulos\n",
    "\n",
    "aero.isnull().sum()"
   ]
  },
  {
   "cell_type": "code",
   "execution_count": 66,
   "metadata": {},
   "outputs": [
    {
     "data": {
      "text/plain": [
       "1    10107\n",
       "2      426\n",
       "Name: total_aeronaves_envolvidas, dtype: int64"
      ]
     },
     "execution_count": 66,
     "metadata": {},
     "output_type": "execute_result"
    }
   ],
   "source": [
    "aero['total_aeronaves_envolvidas'].value_counts()"
   ]
  },
  {
   "cell_type": "code",
   "execution_count": 67,
   "metadata": {},
   "outputs": [],
   "source": [
    "# Transformar a coluna ocorrencia_dia em datetime\n",
    "# Criar uma coluna no df de Ano \n",
    "\n",
    "from datetime import date\n",
    "\n",
    "aero['ano'] = pd.to_datetime(aero['ocorrencia_dia'],format='%d/%m/%Y').dt.year\n",
    "aero['mes'] = pd.to_datetime(aero['ocorrencia_dia'],format='%d/%m/%Y').dt.month"
   ]
  },
  {
   "cell_type": "code",
   "execution_count": 68,
   "metadata": {},
   "outputs": [
    {
     "data": {
      "text/plain": [
       "2010    2885\n",
       "2011    2237\n",
       "2012    1005\n",
       "2018     896\n",
       "2013     890\n",
       "2014     823\n",
       "2015     804\n",
       "2017     384\n",
       "2016     294\n",
       "2019     277\n",
       "2020      38\n",
       "Name: ano, dtype: int64"
      ]
     },
     "execution_count": 68,
     "metadata": {},
     "output_type": "execute_result"
    }
   ],
   "source": [
    "# Quantidade de ocorrências por Ano\n",
    "\n",
    "aero['ano'].value_counts()"
   ]
  },
  {
   "cell_type": "code",
   "execution_count": 69,
   "metadata": {},
   "outputs": [
    {
     "data": {
      "text/plain": [
       "8     1445\n",
       "4     1141\n",
       "7     1113\n",
       "12     970\n",
       "1      951\n",
       "5      937\n",
       "2      863\n",
       "6      846\n",
       "11     738\n",
       "9      583\n",
       "10     555\n",
       "3      391\n",
       "Name: mes, dtype: int64"
      ]
     },
     "execution_count": 69,
     "metadata": {},
     "output_type": "execute_result"
    }
   ],
   "source": [
    "aero['mes'].value_counts()"
   ]
  },
  {
   "cell_type": "markdown",
   "metadata": {},
   "source": [
    "## Quantidade de Ocorrências por ano"
   ]
  },
  {
   "cell_type": "code",
   "execution_count": 70,
   "metadata": {},
   "outputs": [
    {
     "data": {
      "text/plain": [
       "<matplotlib.axes._subplots.AxesSubplot at 0x1ef8a820c10>"
      ]
     },
     "execution_count": 70,
     "metadata": {},
     "output_type": "execute_result"
    },
    {
     "data": {
      "image/png": "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\n",
      "text/plain": [
       "<Figure size 864x216 with 1 Axes>"
      ]
     },
     "metadata": {
      "needs_background": "light"
     },
     "output_type": "display_data"
    }
   ],
   "source": [
    "plt.figure(figsize=(12,3))\n",
    "sns.countplot(x='ano',data=aero, palette='viridis')"
   ]
  },
  {
   "cell_type": "markdown",
   "metadata": {},
   "source": [
    "## Quantidade de ocorrências Mês/ANO"
   ]
  },
  {
   "cell_type": "code",
   "execution_count": 71,
   "metadata": {},
   "outputs": [
    {
     "data": {
      "text/plain": [
       "<matplotlib.axes._subplots.AxesSubplot at 0x1ef8be3cca0>"
      ]
     },
     "execution_count": 71,
     "metadata": {},
     "output_type": "execute_result"
    },
    {
     "data": {
      "image/png": "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\n",
      "text/plain": [
       "<Figure size 1440x720 with 1 Axes>"
      ]
     },
     "metadata": {
      "needs_background": "light"
     },
     "output_type": "display_data"
    }
   ],
   "source": [
    "plt.figure(figsize=(20,10))\n",
    "sns.countplot(x='ano',data=aero,hue='mes', palette='Paired')"
   ]
  },
  {
   "cell_type": "code",
   "execution_count": 72,
   "metadata": {},
   "outputs": [
    {
     "data": {
      "text/plain": [
       "<seaborn.axisgrid.FacetGrid at 0x1ef8a917ee0>"
      ]
     },
     "execution_count": 72,
     "metadata": {},
     "output_type": "execute_result"
    },
    {
     "data": {
      "image/png": "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\n",
      "text/plain": [
       "<Figure size 421.5x360 with 1 Axes>"
      ]
     },
     "metadata": {
      "needs_background": "light"
     },
     "output_type": "display_data"
    }
   ],
   "source": [
    "sns.relplot(data=aero, x=\"mes\", y=\"codigo_ocorrencia\", hue=\"ano\", kind=\"line\", palette='viridis')"
   ]
  },
  {
   "cell_type": "markdown",
   "metadata": {},
   "source": [
    "## Quais aeronaves tiveram mais ocorrências por tipo de operação"
   ]
  },
  {
   "cell_type": "code",
   "execution_count": 73,
   "metadata": {},
   "outputs": [],
   "source": [
    "# Agrupar dados\n",
    "\n",
    "dados_aeronave=aero.groupby(['aeronave_tipo_operacao','aeronave_matricula','aeronave_modelo']).agg({'codigo_ocorrencia':ma.count })"
   ]
  },
  {
   "cell_type": "code",
   "execution_count": 74,
   "metadata": {},
   "outputs": [
    {
     "data": {
      "text/html": [
       "<div>\n",
       "<style scoped>\n",
       "    .dataframe tbody tr th:only-of-type {\n",
       "        vertical-align: middle;\n",
       "    }\n",
       "\n",
       "    .dataframe tbody tr th {\n",
       "        vertical-align: top;\n",
       "    }\n",
       "\n",
       "    .dataframe thead th {\n",
       "        text-align: right;\n",
       "    }\n",
       "</style>\n",
       "<table border=\"1\" class=\"dataframe\">\n",
       "  <thead>\n",
       "    <tr style=\"text-align: right;\">\n",
       "      <th></th>\n",
       "      <th></th>\n",
       "      <th></th>\n",
       "      <th>codigo_ocorrencia</th>\n",
       "    </tr>\n",
       "    <tr>\n",
       "      <th>aeronave_tipo_operacao</th>\n",
       "      <th>aeronave_matricula</th>\n",
       "      <th>aeronave_modelo</th>\n",
       "      <th></th>\n",
       "    </tr>\n",
       "  </thead>\n",
       "  <tbody>\n",
       "    <tr>\n",
       "      <th>TÁXI AÉREO</th>\n",
       "      <th>PTLXO</th>\n",
       "      <th>55C</th>\n",
       "      <td>722</td>\n",
       "    </tr>\n",
       "    <tr>\n",
       "      <th>REGULAR</th>\n",
       "      <th>PRNOB</th>\n",
       "      <th>L410UVP-E20</th>\n",
       "      <td>414</td>\n",
       "    </tr>\n",
       "    <tr>\n",
       "      <th rowspan=\"2\" valign=\"top\">PRIVADA</th>\n",
       "      <th>PRAFA</th>\n",
       "      <th>560XLS+</th>\n",
       "      <td>208</td>\n",
       "    </tr>\n",
       "    <tr>\n",
       "      <th>PROMO</th>\n",
       "      <th>AS 350 B2</th>\n",
       "      <td>162</td>\n",
       "    </tr>\n",
       "    <tr>\n",
       "      <th>POLICIAL</th>\n",
       "      <th>PREES</th>\n",
       "      <th>BK117 C-2</th>\n",
       "      <td>136</td>\n",
       "    </tr>\n",
       "    <tr>\n",
       "      <th>PRIVADA</th>\n",
       "      <th>PRHQB</th>\n",
       "      <th>206B</th>\n",
       "      <td>135</td>\n",
       "    </tr>\n",
       "    <tr>\n",
       "      <th>REGULAR</th>\n",
       "      <th>PRGTN</th>\n",
       "      <th>737-8EH</th>\n",
       "      <td>129</td>\n",
       "    </tr>\n",
       "    <tr>\n",
       "      <th>ESPECIALIZADA</th>\n",
       "      <th>PTYYG</th>\n",
       "      <th>R22</th>\n",
       "      <td>121</td>\n",
       "    </tr>\n",
       "    <tr>\n",
       "      <th>REGULAR</th>\n",
       "      <th>PRPSK</th>\n",
       "      <th>EMB-145LR</th>\n",
       "      <td>120</td>\n",
       "    </tr>\n",
       "    <tr>\n",
       "      <th>ESPECIALIZADA</th>\n",
       "      <th>FAB2345</th>\n",
       "      <th>C95M</th>\n",
       "      <td>117</td>\n",
       "    </tr>\n",
       "  </tbody>\n",
       "</table>\n",
       "</div>"
      ],
      "text/plain": [
       "                                                           codigo_ocorrencia\n",
       "aeronave_tipo_operacao aeronave_matricula aeronave_modelo                   \n",
       "TÁXI AÉREO             PTLXO              55C                            722\n",
       "REGULAR                PRNOB              L410UVP-E20                    414\n",
       "PRIVADA                PRAFA              560XLS+                        208\n",
       "                       PROMO              AS 350 B2                      162\n",
       "POLICIAL               PREES              BK117 C-2                      136\n",
       "PRIVADA                PRHQB              206B                           135\n",
       "REGULAR                PRGTN              737-8EH                        129\n",
       "ESPECIALIZADA          PTYYG              R22                            121\n",
       "REGULAR                PRPSK              EMB-145LR                      120\n",
       "ESPECIALIZADA          FAB2345            C95M                           117"
      ]
     },
     "execution_count": 74,
     "metadata": {},
     "output_type": "execute_result"
    }
   ],
   "source": [
    "# Ordenar do maior valor para o menor\n",
    "\n",
    "dados_aeronave.sort_values('codigo_ocorrencia', ascending=False).head(10)"
   ]
  },
  {
   "cell_type": "markdown",
   "metadata": {},
   "source": [
    "## Quantidade de ocorrências por status de investigação"
   ]
  },
  {
   "cell_type": "code",
   "execution_count": 75,
   "metadata": {},
   "outputs": [],
   "source": [
    "status=aero.groupby(['investigacao_status']).agg({'codigo_ocorrencia':ma.count })"
   ]
  },
  {
   "cell_type": "code",
   "execution_count": 76,
   "metadata": {},
   "outputs": [
    {
     "data": {
      "text/html": [
       "<div>\n",
       "<style scoped>\n",
       "    .dataframe tbody tr th:only-of-type {\n",
       "        vertical-align: middle;\n",
       "    }\n",
       "\n",
       "    .dataframe tbody tr th {\n",
       "        vertical-align: top;\n",
       "    }\n",
       "\n",
       "    .dataframe thead th {\n",
       "        text-align: right;\n",
       "    }\n",
       "</style>\n",
       "<table border=\"1\" class=\"dataframe\">\n",
       "  <thead>\n",
       "    <tr style=\"text-align: right;\">\n",
       "      <th></th>\n",
       "      <th>codigo_ocorrencia</th>\n",
       "    </tr>\n",
       "    <tr>\n",
       "      <th>investigacao_status</th>\n",
       "      <th></th>\n",
       "    </tr>\n",
       "  </thead>\n",
       "  <tbody>\n",
       "    <tr>\n",
       "      <th>FINALIZADA</th>\n",
       "      <td>10531</td>\n",
       "    </tr>\n",
       "    <tr>\n",
       "      <th>ATIVA</th>\n",
       "      <td>2</td>\n",
       "    </tr>\n",
       "  </tbody>\n",
       "</table>\n",
       "</div>"
      ],
      "text/plain": [
       "                     codigo_ocorrencia\n",
       "investigacao_status                   \n",
       "FINALIZADA                       10531\n",
       "ATIVA                                2"
      ]
     },
     "execution_count": 76,
     "metadata": {},
     "output_type": "execute_result"
    }
   ],
   "source": [
    "status.sort_values('codigo_ocorrencia', ascending=False).head(10)"
   ]
  },
  {
   "cell_type": "markdown",
   "metadata": {},
   "source": [
    "## Acidente, incidente e incidente grave por Ano"
   ]
  },
  {
   "cell_type": "code",
   "execution_count": 77,
   "metadata": {},
   "outputs": [
    {
     "data": {
      "image/png": "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\n",
      "text/plain": [
       "<Figure size 720x720 with 1 Axes>"
      ]
     },
     "metadata": {
      "needs_background": "light"
     },
     "output_type": "display_data"
    }
   ],
   "source": [
    "plt.figure(figsize=(10,10))\n",
    "ax = sns.countplot(x=\"ano\", hue=\"ocorrencia_classificacao\", data=aero, palette='viridis')"
   ]
  },
  {
   "cell_type": "markdown",
   "metadata": {},
   "source": [
    "#  Quantidade de Incidente, Acidente e Incidente Grave por fator"
   ]
  },
  {
   "cell_type": "code",
   "execution_count": 78,
   "metadata": {},
   "outputs": [
    {
     "data": {
      "text/plain": [
       "<Figure size 864x864 with 0 Axes>"
      ]
     },
     "metadata": {},
     "output_type": "display_data"
    },
    {
     "data": {
      "image/png": "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\n",
      "text/plain": [
       "<Figure size 1296x360 with 4 Axes>"
      ]
     },
     "metadata": {
      "needs_background": "light"
     },
     "output_type": "display_data"
    }
   ],
   "source": [
    "plt.figure(figsize=(12,12))\n",
    "g = sns.catplot(x=\"ocorrencia_classificacao\", hue='ocorrencia_classificacao', col=\"fator_area\", palette='viridis',\n",
    "                data=aero, kind=\"count\",\n",
    "                height=5, aspect=.9);"
   ]
  },
  {
   "cell_type": "markdown",
   "metadata": {},
   "source": [
    "* Ocorreram mais acidentes devido aos fatores operacional e Humano\n",
    "* Os incidentes graves ocorreram também aos fatores operacional e Humano"
   ]
  },
  {
   "cell_type": "markdown",
   "metadata": {},
   "source": [
    "## As ocorrências fatais ocorreram em quais estados/cidades"
   ]
  },
  {
   "cell_type": "code",
   "execution_count": 79,
   "metadata": {},
   "outputs": [],
   "source": [
    "import numpy.ma as ma\n",
    "\n",
    "fatais=aero.groupby(['ocorrencia_uf','ocorrencia_cidade']).agg({'aeronave_fatalidades_total':ma.count })\n"
   ]
  },
  {
   "cell_type": "code",
   "execution_count": 80,
   "metadata": {},
   "outputs": [
    {
     "data": {
      "text/plain": [
       "<matplotlib.axes._subplots.AxesSubplot at 0x1ef8a83ca60>"
      ]
     },
     "execution_count": 80,
     "metadata": {},
     "output_type": "execute_result"
    },
    {
     "data": {
      "image/png": "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\n",
      "text/plain": [
       "<Figure size 504x504 with 1 Axes>"
      ]
     },
     "metadata": {
      "needs_background": "light"
     },
     "output_type": "display_data"
    }
   ],
   "source": [
    "fatais.sort_values('aeronave_fatalidades_total', ascending=False).head(10).plot(title='Ocorrências fatais por cidade',kind='bar', figsize=(7,7), rot=70)"
   ]
  },
  {
   "cell_type": "code",
   "execution_count": 81,
   "metadata": {},
   "outputs": [],
   "source": [
    "# Em quais segmentos\n",
    "\n",
    "operacao=aero.groupby(['aeronave_tipo_operacao']).agg({'aeronave_fatalidades_total':ma.count })"
   ]
  },
  {
   "cell_type": "code",
   "execution_count": 82,
   "metadata": {},
   "outputs": [
    {
     "data": {
      "text/html": [
       "<div>\n",
       "<style scoped>\n",
       "    .dataframe tbody tr th:only-of-type {\n",
       "        vertical-align: middle;\n",
       "    }\n",
       "\n",
       "    .dataframe tbody tr th {\n",
       "        vertical-align: top;\n",
       "    }\n",
       "\n",
       "    .dataframe thead th {\n",
       "        text-align: right;\n",
       "    }\n",
       "</style>\n",
       "<table border=\"1\" class=\"dataframe\">\n",
       "  <thead>\n",
       "    <tr style=\"text-align: right;\">\n",
       "      <th></th>\n",
       "      <th>aeronave_fatalidades_total</th>\n",
       "    </tr>\n",
       "    <tr>\n",
       "      <th>aeronave_tipo_operacao</th>\n",
       "      <th></th>\n",
       "    </tr>\n",
       "  </thead>\n",
       "  <tbody>\n",
       "    <tr>\n",
       "      <th>PRIVADA</th>\n",
       "      <td>2815</td>\n",
       "    </tr>\n",
       "    <tr>\n",
       "      <th>TÁXI AÉREO</th>\n",
       "      <td>2173</td>\n",
       "    </tr>\n",
       "    <tr>\n",
       "      <th>INSTRUÇÃO</th>\n",
       "      <td>1641</td>\n",
       "    </tr>\n",
       "    <tr>\n",
       "      <th>REGULAR</th>\n",
       "      <td>1325</td>\n",
       "    </tr>\n",
       "    <tr>\n",
       "      <th>AGRÍCOLA</th>\n",
       "      <td>1090</td>\n",
       "    </tr>\n",
       "    <tr>\n",
       "      <th>POLICIAL</th>\n",
       "      <td>773</td>\n",
       "    </tr>\n",
       "    <tr>\n",
       "      <th>ESPECIALIZADA</th>\n",
       "      <td>436</td>\n",
       "    </tr>\n",
       "    <tr>\n",
       "      <th>NÃO REGULAR</th>\n",
       "      <td>145</td>\n",
       "    </tr>\n",
       "    <tr>\n",
       "      <th>EXPERIMENTAL</th>\n",
       "      <td>8</td>\n",
       "    </tr>\n",
       "  </tbody>\n",
       "</table>\n",
       "</div>"
      ],
      "text/plain": [
       "                        aeronave_fatalidades_total\n",
       "aeronave_tipo_operacao                            \n",
       "PRIVADA                                       2815\n",
       "TÁXI AÉREO                                    2173\n",
       "INSTRUÇÃO                                     1641\n",
       "REGULAR                                       1325\n",
       "AGRÍCOLA                                      1090\n",
       "POLICIAL                                       773\n",
       "ESPECIALIZADA                                  436\n",
       "NÃO REGULAR                                    145\n",
       "EXPERIMENTAL                                     8"
      ]
     },
     "execution_count": 82,
     "metadata": {},
     "output_type": "execute_result"
    }
   ],
   "source": [
    "operacao.sort_values('aeronave_fatalidades_total', ascending=False).head(20)"
   ]
  },
  {
   "cell_type": "markdown",
   "metadata": {},
   "source": [
    "## Quais fatores contribuiram para as fatalidades"
   ]
  },
  {
   "cell_type": "code",
   "execution_count": 83,
   "metadata": {},
   "outputs": [],
   "source": [
    "f_fatais=aero.groupby(['ocorrencia_tipo']).agg({'aeronave_fatalidades_total': ma.count})"
   ]
  },
  {
   "cell_type": "code",
   "execution_count": 84,
   "metadata": {},
   "outputs": [
    {
     "data": {
      "text/html": [
       "<div>\n",
       "<style scoped>\n",
       "    .dataframe tbody tr th:only-of-type {\n",
       "        vertical-align: middle;\n",
       "    }\n",
       "\n",
       "    .dataframe tbody tr th {\n",
       "        vertical-align: top;\n",
       "    }\n",
       "\n",
       "    .dataframe thead th {\n",
       "        text-align: right;\n",
       "    }\n",
       "</style>\n",
       "<table border=\"1\" class=\"dataframe\">\n",
       "  <thead>\n",
       "    <tr style=\"text-align: right;\">\n",
       "      <th></th>\n",
       "      <th>aeronave_fatalidades_total</th>\n",
       "    </tr>\n",
       "    <tr>\n",
       "      <th>ocorrencia_tipo</th>\n",
       "      <th></th>\n",
       "    </tr>\n",
       "  </thead>\n",
       "  <tbody>\n",
       "    <tr>\n",
       "      <th>PERDA DE CONTROLE EM VOO</th>\n",
       "      <td>1822</td>\n",
       "    </tr>\n",
       "    <tr>\n",
       "      <th>FALHA DO MOTOR EM VOO</th>\n",
       "      <td>1542</td>\n",
       "    </tr>\n",
       "    <tr>\n",
       "      <th>PERDA DE CONTROLE NO SOLO</th>\n",
       "      <td>1318</td>\n",
       "    </tr>\n",
       "    <tr>\n",
       "      <th>EXCURSÃO DE PISTA</th>\n",
       "      <td>779</td>\n",
       "    </tr>\n",
       "    <tr>\n",
       "      <th>COLISÃO COM OBSTÁCULO DURANTE A DECOLAGEM E POUSO</th>\n",
       "      <td>622</td>\n",
       "    </tr>\n",
       "    <tr>\n",
       "      <th>OUTROS</th>\n",
       "      <td>439</td>\n",
       "    </tr>\n",
       "    <tr>\n",
       "      <th>FALHA OU MAU FUNCIONAMENTO DE SISTEMA / COMPONENTE</th>\n",
       "      <td>431</td>\n",
       "    </tr>\n",
       "    <tr>\n",
       "      <th>PANE SECA</th>\n",
       "      <td>415</td>\n",
       "    </tr>\n",
       "    <tr>\n",
       "      <th>VOO CONTROLADO CONTRA O TERRENO</th>\n",
       "      <td>372</td>\n",
       "    </tr>\n",
       "    <tr>\n",
       "      <th>POUSO LONGO</th>\n",
       "      <td>345</td>\n",
       "    </tr>\n",
       "  </tbody>\n",
       "</table>\n",
       "</div>"
      ],
      "text/plain": [
       "                                                    aeronave_fatalidades_total\n",
       "ocorrencia_tipo                                                               \n",
       "PERDA DE CONTROLE EM VOO                                                  1822\n",
       "FALHA DO MOTOR EM VOO                                                     1542\n",
       "PERDA DE CONTROLE NO SOLO                                                 1318\n",
       "EXCURSÃO DE PISTA                                                          779\n",
       "COLISÃO COM OBSTÁCULO DURANTE A DECOLAGEM E POUSO                          622\n",
       "OUTROS                                                                     439\n",
       "FALHA OU MAU FUNCIONAMENTO DE SISTEMA / COMPONENTE                         431\n",
       "PANE SECA                                                                  415\n",
       "VOO CONTROLADO CONTRA O TERRENO                                            372\n",
       "POUSO LONGO                                                                345"
      ]
     },
     "execution_count": 84,
     "metadata": {},
     "output_type": "execute_result"
    }
   ],
   "source": [
    "f_fatais.sort_values('aeronave_fatalidades_total', ascending=False).head(10)"
   ]
  },
  {
   "cell_type": "markdown",
   "metadata": {},
   "source": [
    "## Em quais horário ocorrem mais fatalidades"
   ]
  },
  {
   "cell_type": "code",
   "execution_count": 85,
   "metadata": {},
   "outputs": [],
   "source": [
    "h_fatais=aero.groupby(['ocorrencia_hora']).agg({'aeronave_fatalidades_total': ma.count})"
   ]
  },
  {
   "cell_type": "code",
   "execution_count": 86,
   "metadata": {},
   "outputs": [
    {
     "data": {
      "text/html": [
       "<div>\n",
       "<style scoped>\n",
       "    .dataframe tbody tr th:only-of-type {\n",
       "        vertical-align: middle;\n",
       "    }\n",
       "\n",
       "    .dataframe tbody tr th {\n",
       "        vertical-align: top;\n",
       "    }\n",
       "\n",
       "    .dataframe thead th {\n",
       "        text-align: right;\n",
       "    }\n",
       "</style>\n",
       "<table border=\"1\" class=\"dataframe\">\n",
       "  <thead>\n",
       "    <tr style=\"text-align: right;\">\n",
       "      <th></th>\n",
       "      <th>aeronave_fatalidades_total</th>\n",
       "    </tr>\n",
       "    <tr>\n",
       "      <th>ocorrencia_hora</th>\n",
       "      <th></th>\n",
       "    </tr>\n",
       "  </thead>\n",
       "  <tbody>\n",
       "    <tr>\n",
       "      <th>12:26:00</th>\n",
       "      <td>722</td>\n",
       "    </tr>\n",
       "    <tr>\n",
       "      <th>09:54:00</th>\n",
       "      <td>414</td>\n",
       "    </tr>\n",
       "    <tr>\n",
       "      <th>13:03:00</th>\n",
       "      <td>345</td>\n",
       "    </tr>\n",
       "    <tr>\n",
       "      <th>14:00:00</th>\n",
       "      <td>249</td>\n",
       "    </tr>\n",
       "    <tr>\n",
       "      <th>00:32:00</th>\n",
       "      <td>234</td>\n",
       "    </tr>\n",
       "    <tr>\n",
       "      <th>18:00:00</th>\n",
       "      <td>216</td>\n",
       "    </tr>\n",
       "    <tr>\n",
       "      <th>14:50:00</th>\n",
       "      <td>213</td>\n",
       "    </tr>\n",
       "    <tr>\n",
       "      <th>12:00:00</th>\n",
       "      <td>179</td>\n",
       "    </tr>\n",
       "    <tr>\n",
       "      <th>19:00:00</th>\n",
       "      <td>170</td>\n",
       "    </tr>\n",
       "    <tr>\n",
       "      <th>17:30:00</th>\n",
       "      <td>167</td>\n",
       "    </tr>\n",
       "  </tbody>\n",
       "</table>\n",
       "</div>"
      ],
      "text/plain": [
       "                 aeronave_fatalidades_total\n",
       "ocorrencia_hora                            \n",
       "12:26:00                                722\n",
       "09:54:00                                414\n",
       "13:03:00                                345\n",
       "14:00:00                                249\n",
       "00:32:00                                234\n",
       "18:00:00                                216\n",
       "14:50:00                                213\n",
       "12:00:00                                179\n",
       "19:00:00                                170\n",
       "17:30:00                                167"
      ]
     },
     "execution_count": 86,
     "metadata": {},
     "output_type": "execute_result"
    }
   ],
   "source": [
    "h_fatais.sort_values('aeronave_fatalidades_total', ascending=False).head(10)"
   ]
  },
  {
   "cell_type": "markdown",
   "metadata": {},
   "source": [
    "## Fatalidades por tipo de operacao e aeronave"
   ]
  },
  {
   "cell_type": "code",
   "execution_count": 87,
   "metadata": {},
   "outputs": [],
   "source": [
    "qtde_recom=aero.groupby(['aeronave_tipo_operacao','aeronave_tipo_veiculo','aeronave_matricula','aeronave_modelo', 'aeronave_ano_fabricacao']).agg({'aeronave_fatalidades_total':ma.count })"
   ]
  },
  {
   "cell_type": "code",
   "execution_count": 88,
   "metadata": {},
   "outputs": [
    {
     "data": {
      "text/html": [
       "<div>\n",
       "<style scoped>\n",
       "    .dataframe tbody tr th:only-of-type {\n",
       "        vertical-align: middle;\n",
       "    }\n",
       "\n",
       "    .dataframe tbody tr th {\n",
       "        vertical-align: top;\n",
       "    }\n",
       "\n",
       "    .dataframe thead th {\n",
       "        text-align: right;\n",
       "    }\n",
       "</style>\n",
       "<table border=\"1\" class=\"dataframe\">\n",
       "  <thead>\n",
       "    <tr style=\"text-align: right;\">\n",
       "      <th></th>\n",
       "      <th></th>\n",
       "      <th></th>\n",
       "      <th></th>\n",
       "      <th></th>\n",
       "      <th>aeronave_fatalidades_total</th>\n",
       "    </tr>\n",
       "    <tr>\n",
       "      <th>aeronave_tipo_operacao</th>\n",
       "      <th>aeronave_tipo_veiculo</th>\n",
       "      <th>aeronave_matricula</th>\n",
       "      <th>aeronave_modelo</th>\n",
       "      <th>aeronave_ano_fabricacao</th>\n",
       "      <th></th>\n",
       "    </tr>\n",
       "  </thead>\n",
       "  <tbody>\n",
       "    <tr>\n",
       "      <th>TÁXI AÉREO</th>\n",
       "      <th>AVIÃO</th>\n",
       "      <th>PTLXO</th>\n",
       "      <th>55C</th>\n",
       "      <th>1988.0</th>\n",
       "      <td>722</td>\n",
       "    </tr>\n",
       "    <tr>\n",
       "      <th>REGULAR</th>\n",
       "      <th>AVIÃO</th>\n",
       "      <th>PRNOB</th>\n",
       "      <th>L410UVP-E20</th>\n",
       "      <th>2010.0</th>\n",
       "      <td>414</td>\n",
       "    </tr>\n",
       "    <tr>\n",
       "      <th rowspan=\"2\" valign=\"top\">PRIVADA</th>\n",
       "      <th>AVIÃO</th>\n",
       "      <th>PRAFA</th>\n",
       "      <th>560XLS+</th>\n",
       "      <th>2010.0</th>\n",
       "      <td>208</td>\n",
       "    </tr>\n",
       "    <tr>\n",
       "      <th>HELICÓPTERO</th>\n",
       "      <th>PROMO</th>\n",
       "      <th>AS 350 B2</th>\n",
       "      <th>2008.0</th>\n",
       "      <td>162</td>\n",
       "    </tr>\n",
       "    <tr>\n",
       "      <th>POLICIAL</th>\n",
       "      <th>HELICÓPTERO</th>\n",
       "      <th>PREES</th>\n",
       "      <th>BK117 C-2</th>\n",
       "      <th>2013.0</th>\n",
       "      <td>136</td>\n",
       "    </tr>\n",
       "    <tr>\n",
       "      <th>PRIVADA</th>\n",
       "      <th>HELICÓPTERO</th>\n",
       "      <th>PRHQB</th>\n",
       "      <th>206B</th>\n",
       "      <th>1969.0</th>\n",
       "      <td>135</td>\n",
       "    </tr>\n",
       "    <tr>\n",
       "      <th>REGULAR</th>\n",
       "      <th>AVIÃO</th>\n",
       "      <th>PRGTN</th>\n",
       "      <th>737-8EH</th>\n",
       "      <th>2007.0</th>\n",
       "      <td>129</td>\n",
       "    </tr>\n",
       "    <tr>\n",
       "      <th>ESPECIALIZADA</th>\n",
       "      <th>HELICÓPTERO</th>\n",
       "      <th>PTYYG</th>\n",
       "      <th>R22</th>\n",
       "      <th>1998.0</th>\n",
       "      <td>121</td>\n",
       "    </tr>\n",
       "    <tr>\n",
       "      <th>REGULAR</th>\n",
       "      <th>AVIÃO</th>\n",
       "      <th>PRPSK</th>\n",
       "      <th>EMB-145LR</th>\n",
       "      <th>2001.0</th>\n",
       "      <td>120</td>\n",
       "    </tr>\n",
       "    <tr>\n",
       "      <th>ESPECIALIZADA</th>\n",
       "      <th>AVIÃO</th>\n",
       "      <th>FAB2345</th>\n",
       "      <th>C95M</th>\n",
       "      <th>0.0</th>\n",
       "      <td>117</td>\n",
       "    </tr>\n",
       "    <tr>\n",
       "      <th>TÁXI AÉREO</th>\n",
       "      <th>AVIÃO</th>\n",
       "      <th>PTMFW</th>\n",
       "      <th>PA-31T2</th>\n",
       "      <th>1983.0</th>\n",
       "      <td>117</td>\n",
       "    </tr>\n",
       "    <tr>\n",
       "      <th>INSTRUÇÃO</th>\n",
       "      <th>AVIÃO</th>\n",
       "      <th>PPHLV</th>\n",
       "      <th>56-C-1</th>\n",
       "      <th>1962.0</th>\n",
       "      <td>117</td>\n",
       "    </tr>\n",
       "    <tr>\n",
       "      <th>PRIVADA</th>\n",
       "      <th>HELICÓPTERO</th>\n",
       "      <th>PPMAW</th>\n",
       "      <th>AS 350 B3</th>\n",
       "      <th>1999.0</th>\n",
       "      <td>112</td>\n",
       "    </tr>\n",
       "    <tr>\n",
       "      <th>POLICIAL</th>\n",
       "      <th>AVIÃO</th>\n",
       "      <th>PREBM</th>\n",
       "      <th>AT-802</th>\n",
       "      <th>2003.0</th>\n",
       "      <td>104</td>\n",
       "    </tr>\n",
       "    <tr>\n",
       "      <th>PRIVADA</th>\n",
       "      <th>AVIÃO</th>\n",
       "      <th>PTWUG</th>\n",
       "      <th>C90A</th>\n",
       "      <th>0.0</th>\n",
       "      <td>96</td>\n",
       "    </tr>\n",
       "    <tr>\n",
       "      <th>POLICIAL</th>\n",
       "      <th>HELICÓPTERO</th>\n",
       "      <th>PPELA</th>\n",
       "      <th>206L-3</th>\n",
       "      <th>1991.0</th>\n",
       "      <td>90</td>\n",
       "    </tr>\n",
       "    <tr>\n",
       "      <th>REGULAR</th>\n",
       "      <th>AVIÃO</th>\n",
       "      <th>CSTOF</th>\n",
       "      <th>A330-223</th>\n",
       "      <th>0.0</th>\n",
       "      <td>88</td>\n",
       "    </tr>\n",
       "    <tr>\n",
       "      <th>INSTRUÇÃO</th>\n",
       "      <th>AVIÃO</th>\n",
       "      <th>PTCNL</th>\n",
       "      <th>172A</th>\n",
       "      <th>1960.0</th>\n",
       "      <td>78</td>\n",
       "    </tr>\n",
       "    <tr>\n",
       "      <th>PRIVADA</th>\n",
       "      <th>AVIÃO</th>\n",
       "      <th>PTOQR</th>\n",
       "      <th>208</th>\n",
       "      <th>1992.0</th>\n",
       "      <td>70</td>\n",
       "    </tr>\n",
       "    <tr>\n",
       "      <th>POLICIAL</th>\n",
       "      <th>HELICÓPTERO</th>\n",
       "      <th>PRFPL</th>\n",
       "      <th>EC 120 B</th>\n",
       "      <th>2002.0</th>\n",
       "      <td>66</td>\n",
       "    </tr>\n",
       "  </tbody>\n",
       "</table>\n",
       "</div>"
      ],
      "text/plain": [
       "                                                                                                         aeronave_fatalidades_total\n",
       "aeronave_tipo_operacao aeronave_tipo_veiculo aeronave_matricula aeronave_modelo aeronave_ano_fabricacao                            \n",
       "TÁXI AÉREO             AVIÃO                 PTLXO              55C             1988.0                                          722\n",
       "REGULAR                AVIÃO                 PRNOB              L410UVP-E20     2010.0                                          414\n",
       "PRIVADA                AVIÃO                 PRAFA              560XLS+         2010.0                                          208\n",
       "                       HELICÓPTERO           PROMO              AS 350 B2       2008.0                                          162\n",
       "POLICIAL               HELICÓPTERO           PREES              BK117 C-2       2013.0                                          136\n",
       "PRIVADA                HELICÓPTERO           PRHQB              206B            1969.0                                          135\n",
       "REGULAR                AVIÃO                 PRGTN              737-8EH         2007.0                                          129\n",
       "ESPECIALIZADA          HELICÓPTERO           PTYYG              R22             1998.0                                          121\n",
       "REGULAR                AVIÃO                 PRPSK              EMB-145LR       2001.0                                          120\n",
       "ESPECIALIZADA          AVIÃO                 FAB2345            C95M            0.0                                             117\n",
       "TÁXI AÉREO             AVIÃO                 PTMFW              PA-31T2         1983.0                                          117\n",
       "INSTRUÇÃO              AVIÃO                 PPHLV              56-C-1          1962.0                                          117\n",
       "PRIVADA                HELICÓPTERO           PPMAW              AS 350 B3       1999.0                                          112\n",
       "POLICIAL               AVIÃO                 PREBM              AT-802          2003.0                                          104\n",
       "PRIVADA                AVIÃO                 PTWUG              C90A            0.0                                              96\n",
       "POLICIAL               HELICÓPTERO           PPELA              206L-3          1991.0                                           90\n",
       "REGULAR                AVIÃO                 CSTOF              A330-223        0.0                                              88\n",
       "INSTRUÇÃO              AVIÃO                 PTCNL              172A            1960.0                                           78\n",
       "PRIVADA                AVIÃO                 PTOQR              208             1992.0                                           70\n",
       "POLICIAL               HELICÓPTERO           PRFPL              EC 120 B        2002.0                                           66"
      ]
     },
     "execution_count": 88,
     "metadata": {},
     "output_type": "execute_result"
    }
   ],
   "source": [
    "qtde_recom.sort_values('aeronave_fatalidades_total', ascending=False).head(20)"
   ]
  },
  {
   "cell_type": "markdown",
   "metadata": {},
   "source": [
    "## Quais as aeronaves que mais tem ocorrências e o tipo de ocorrência"
   ]
  },
  {
   "cell_type": "code",
   "execution_count": 89,
   "metadata": {},
   "outputs": [],
   "source": [
    "tipo=aero.groupby(['aeronave_tipo_operacao','aeronave_matricula','aeronave_modelo', 'ocorrencia_tipo']).agg({'codigo_ocorrencia':ma.count })"
   ]
  },
  {
   "cell_type": "code",
   "execution_count": 90,
   "metadata": {},
   "outputs": [
    {
     "data": {
      "text/html": [
       "<div>\n",
       "<style scoped>\n",
       "    .dataframe tbody tr th:only-of-type {\n",
       "        vertical-align: middle;\n",
       "    }\n",
       "\n",
       "    .dataframe tbody tr th {\n",
       "        vertical-align: top;\n",
       "    }\n",
       "\n",
       "    .dataframe thead th {\n",
       "        text-align: right;\n",
       "    }\n",
       "</style>\n",
       "<table border=\"1\" class=\"dataframe\">\n",
       "  <thead>\n",
       "    <tr style=\"text-align: right;\">\n",
       "      <th></th>\n",
       "      <th></th>\n",
       "      <th></th>\n",
       "      <th></th>\n",
       "      <th>codigo_ocorrencia</th>\n",
       "    </tr>\n",
       "    <tr>\n",
       "      <th>aeronave_tipo_operacao</th>\n",
       "      <th>aeronave_matricula</th>\n",
       "      <th>aeronave_modelo</th>\n",
       "      <th>ocorrencia_tipo</th>\n",
       "      <th></th>\n",
       "    </tr>\n",
       "  </thead>\n",
       "  <tbody>\n",
       "    <tr>\n",
       "      <th>REGULAR</th>\n",
       "      <th>PRNOB</th>\n",
       "      <th>L410UVP-E20</th>\n",
       "      <th>FALHA DO MOTOR EM VOO</th>\n",
       "      <td>414</td>\n",
       "    </tr>\n",
       "    <tr>\n",
       "      <th rowspan=\"2\" valign=\"top\">TÁXI AÉREO</th>\n",
       "      <th rowspan=\"2\" valign=\"top\">PTLXO</th>\n",
       "      <th rowspan=\"2\" valign=\"top\">55C</th>\n",
       "      <th>PERDA DE CONTROLE NO SOLO</th>\n",
       "      <td>361</td>\n",
       "    </tr>\n",
       "    <tr>\n",
       "      <th>EXCURSÃO DE PISTA</th>\n",
       "      <td>361</td>\n",
       "    </tr>\n",
       "    <tr>\n",
       "      <th rowspan=\"2\" valign=\"top\">PRIVADA</th>\n",
       "      <th>PRAFA</th>\n",
       "      <th>560XLS+</th>\n",
       "      <th>PERDA DE CONTROLE EM VOO</th>\n",
       "      <td>208</td>\n",
       "    </tr>\n",
       "    <tr>\n",
       "      <th>PROMO</th>\n",
       "      <th>AS 350 B2</th>\n",
       "      <th>VOO CONTROLADO CONTRA O TERRENO</th>\n",
       "      <td>162</td>\n",
       "    </tr>\n",
       "    <tr>\n",
       "      <th>POLICIAL</th>\n",
       "      <th>PREES</th>\n",
       "      <th>BK117 C-2</th>\n",
       "      <th>OUTROS</th>\n",
       "      <td>136</td>\n",
       "    </tr>\n",
       "    <tr>\n",
       "      <th>PRIVADA</th>\n",
       "      <th>PRHQB</th>\n",
       "      <th>206B</th>\n",
       "      <th>PERDA DE CONTROLE EM VOO</th>\n",
       "      <td>135</td>\n",
       "    </tr>\n",
       "    <tr>\n",
       "      <th>ESPECIALIZADA</th>\n",
       "      <th>PTYYG</th>\n",
       "      <th>R22</th>\n",
       "      <th>FALHA DO MOTOR EM VOO</th>\n",
       "      <td>121</td>\n",
       "    </tr>\n",
       "    <tr>\n",
       "      <th>REGULAR</th>\n",
       "      <th>PRPSK</th>\n",
       "      <th>EMB-145LR</th>\n",
       "      <th>POUSO LONGO</th>\n",
       "      <td>120</td>\n",
       "    </tr>\n",
       "    <tr>\n",
       "      <th>TÁXI AÉREO</th>\n",
       "      <th>PTMFW</th>\n",
       "      <th>PA-31T2</th>\n",
       "      <th>PANE SECA</th>\n",
       "      <td>117</td>\n",
       "    </tr>\n",
       "    <tr>\n",
       "      <th>ESPECIALIZADA</th>\n",
       "      <th>FAB2345</th>\n",
       "      <th>C95M</th>\n",
       "      <th>INCURSÃO EM PISTA</th>\n",
       "      <td>117</td>\n",
       "    </tr>\n",
       "    <tr>\n",
       "      <th>INSTRUÇÃO</th>\n",
       "      <th>PPHLV</th>\n",
       "      <th>56-C-1</th>\n",
       "      <th>PERDA DE CONTROLE EM VOO</th>\n",
       "      <td>117</td>\n",
       "    </tr>\n",
       "    <tr>\n",
       "      <th>REGULAR</th>\n",
       "      <th>PRGTN</th>\n",
       "      <th>737-8EH</th>\n",
       "      <th>INCURSÃO EM PISTA</th>\n",
       "      <td>117</td>\n",
       "    </tr>\n",
       "    <tr>\n",
       "      <th>PRIVADA</th>\n",
       "      <th>PPMAW</th>\n",
       "      <th>AS 350 B3</th>\n",
       "      <th>PERDA DE CONTROLE NO SOLO</th>\n",
       "      <td>112</td>\n",
       "    </tr>\n",
       "    <tr>\n",
       "      <th>POLICIAL</th>\n",
       "      <th>PREBM</th>\n",
       "      <th>AT-802</th>\n",
       "      <th>PERDA DE CONTROLE EM VOO</th>\n",
       "      <td>104</td>\n",
       "    </tr>\n",
       "    <tr>\n",
       "      <th>PRIVADA</th>\n",
       "      <th>PTWUG</th>\n",
       "      <th>C90A</th>\n",
       "      <th>CAUSADO POR FENÔMENO METEOROLÓGICO EM VOO</th>\n",
       "      <td>96</td>\n",
       "    </tr>\n",
       "    <tr>\n",
       "      <th>POLICIAL</th>\n",
       "      <th>PPELA</th>\n",
       "      <th>206L-3</th>\n",
       "      <th>PERDA DE CONTROLE EM VOO</th>\n",
       "      <td>90</td>\n",
       "    </tr>\n",
       "    <tr>\n",
       "      <th>REGULAR</th>\n",
       "      <th>CSTOF</th>\n",
       "      <th>A330-223</th>\n",
       "      <th>COLISÃO COM OBSTÁCULOS NO SOLO</th>\n",
       "      <td>88</td>\n",
       "    </tr>\n",
       "    <tr>\n",
       "      <th>INSTRUÇÃO</th>\n",
       "      <th>PTCNL</th>\n",
       "      <th>172A</th>\n",
       "      <th>FALHA DO MOTOR EM VOO</th>\n",
       "      <td>78</td>\n",
       "    </tr>\n",
       "    <tr>\n",
       "      <th>PRIVADA</th>\n",
       "      <th>PTOQR</th>\n",
       "      <th>208</th>\n",
       "      <th>COM LANÇAMENTO DE PESSOAS</th>\n",
       "      <td>70</td>\n",
       "    </tr>\n",
       "  </tbody>\n",
       "</table>\n",
       "</div>"
      ],
      "text/plain": [
       "                                                                                                     codigo_ocorrencia\n",
       "aeronave_tipo_operacao aeronave_matricula aeronave_modelo ocorrencia_tipo                                             \n",
       "REGULAR                PRNOB              L410UVP-E20     FALHA DO MOTOR EM VOO                                    414\n",
       "TÁXI AÉREO             PTLXO              55C             PERDA DE CONTROLE NO SOLO                                361\n",
       "                                                          EXCURSÃO DE PISTA                                        361\n",
       "PRIVADA                PRAFA              560XLS+         PERDA DE CONTROLE EM VOO                                 208\n",
       "                       PROMO              AS 350 B2       VOO CONTROLADO CONTRA O TERRENO                          162\n",
       "POLICIAL               PREES              BK117 C-2       OUTROS                                                   136\n",
       "PRIVADA                PRHQB              206B            PERDA DE CONTROLE EM VOO                                 135\n",
       "ESPECIALIZADA          PTYYG              R22             FALHA DO MOTOR EM VOO                                    121\n",
       "REGULAR                PRPSK              EMB-145LR       POUSO LONGO                                              120\n",
       "TÁXI AÉREO             PTMFW              PA-31T2         PANE SECA                                                117\n",
       "ESPECIALIZADA          FAB2345            C95M            INCURSÃO EM PISTA                                        117\n",
       "INSTRUÇÃO              PPHLV              56-C-1          PERDA DE CONTROLE EM VOO                                 117\n",
       "REGULAR                PRGTN              737-8EH         INCURSÃO EM PISTA                                        117\n",
       "PRIVADA                PPMAW              AS 350 B3       PERDA DE CONTROLE NO SOLO                                112\n",
       "POLICIAL               PREBM              AT-802          PERDA DE CONTROLE EM VOO                                 104\n",
       "PRIVADA                PTWUG              C90A            CAUSADO POR FENÔMENO METEOROLÓGICO EM VOO                 96\n",
       "POLICIAL               PPELA              206L-3          PERDA DE CONTROLE EM VOO                                  90\n",
       "REGULAR                CSTOF              A330-223        COLISÃO COM OBSTÁCULOS NO SOLO                            88\n",
       "INSTRUÇÃO              PTCNL              172A            FALHA DO MOTOR EM VOO                                     78\n",
       "PRIVADA                PTOQR              208             COM LANÇAMENTO DE PESSOAS                                 70"
      ]
     },
     "execution_count": 90,
     "metadata": {},
     "output_type": "execute_result"
    }
   ],
   "source": [
    "tipo.sort_values('codigo_ocorrencia', ascending=False).head(20)"
   ]
  },
  {
   "cell_type": "markdown",
   "metadata": {},
   "source": [
    "## Quais origens de voos possuem mais ocorrencias"
   ]
  },
  {
   "cell_type": "code",
   "execution_count": 91,
   "metadata": {},
   "outputs": [],
   "source": [
    "voo=aero.groupby(['aeronave_voo_origem']).agg({'codigo_ocorrencia':ma.count })"
   ]
  },
  {
   "cell_type": "code",
   "execution_count": 92,
   "metadata": {},
   "outputs": [
    {
     "data": {
      "text/html": [
       "<div>\n",
       "<style scoped>\n",
       "    .dataframe tbody tr th:only-of-type {\n",
       "        vertical-align: middle;\n",
       "    }\n",
       "\n",
       "    .dataframe tbody tr th {\n",
       "        vertical-align: top;\n",
       "    }\n",
       "\n",
       "    .dataframe thead th {\n",
       "        text-align: right;\n",
       "    }\n",
       "</style>\n",
       "<table border=\"1\" class=\"dataframe\">\n",
       "  <thead>\n",
       "    <tr style=\"text-align: right;\">\n",
       "      <th></th>\n",
       "      <th>codigo_ocorrencia</th>\n",
       "    </tr>\n",
       "    <tr>\n",
       "      <th>aeronave_voo_origem</th>\n",
       "      <th></th>\n",
       "    </tr>\n",
       "  </thead>\n",
       "  <tbody>\n",
       "    <tr>\n",
       "      <th>FORA DE AERODROMO</th>\n",
       "      <td>2691</td>\n",
       "    </tr>\n",
       "    <tr>\n",
       "      <th>SANTOS DUMONT</th>\n",
       "      <td>1049</td>\n",
       "    </tr>\n",
       "    <tr>\n",
       "      <th>GUARARAPES - GILBERTO FREYRE</th>\n",
       "      <td>525</td>\n",
       "    </tr>\n",
       "    <tr>\n",
       "      <th>PRESIDENTE JUSCELINO KUBITSCHEK</th>\n",
       "      <td>365</td>\n",
       "    </tr>\n",
       "    <tr>\n",
       "      <th>CAMPO DE MARTE</th>\n",
       "      <td>264</td>\n",
       "    </tr>\n",
       "    <tr>\n",
       "      <th>PORTO SEGURO</th>\n",
       "      <td>212</td>\n",
       "    </tr>\n",
       "    <tr>\n",
       "      <th>VAL DE CANS / JÚLIO CEZAR RIBEIRO</th>\n",
       "      <td>205</td>\n",
       "    </tr>\n",
       "    <tr>\n",
       "      <th>ESTADUAL ARTHUR SIQUEIRA</th>\n",
       "      <td>186</td>\n",
       "    </tr>\n",
       "    <tr>\n",
       "      <th>PINTO MARTINS</th>\n",
       "      <td>182</td>\n",
       "    </tr>\n",
       "    <tr>\n",
       "      <th>DEPUTADO LUÍS EDUARDO MAGALHÃES</th>\n",
       "      <td>174</td>\n",
       "    </tr>\n",
       "    <tr>\n",
       "      <th>GOVERNADOR ANDRÉ FRANCO MONTORO</th>\n",
       "      <td>156</td>\n",
       "    </tr>\n",
       "    <tr>\n",
       "      <th>CONGONHAS</th>\n",
       "      <td>139</td>\n",
       "    </tr>\n",
       "    <tr>\n",
       "      <th>AEROCLUBE DE ARACAJU</th>\n",
       "      <td>135</td>\n",
       "    </tr>\n",
       "    <tr>\n",
       "      <th>FLORES</th>\n",
       "      <td>118</td>\n",
       "    </tr>\n",
       "    <tr>\n",
       "      <th>SÃO PEDRO</th>\n",
       "      <td>117</td>\n",
       "    </tr>\n",
       "    <tr>\n",
       "      <th>BASE AÉREA DE SANTA CRUZ</th>\n",
       "      <td>117</td>\n",
       "    </tr>\n",
       "    <tr>\n",
       "      <th>ZUMBI DOS PALMARES</th>\n",
       "      <td>111</td>\n",
       "    </tr>\n",
       "    <tr>\n",
       "      <th>AEROCLUBE DE ITÁPOLIS</th>\n",
       "      <td>109</td>\n",
       "    </tr>\n",
       "    <tr>\n",
       "      <th>RESENDE</th>\n",
       "      <td>108</td>\n",
       "    </tr>\n",
       "    <tr>\n",
       "      <th>SOROCABA</th>\n",
       "      <td>105</td>\n",
       "    </tr>\n",
       "  </tbody>\n",
       "</table>\n",
       "</div>"
      ],
      "text/plain": [
       "                                   codigo_ocorrencia\n",
       "aeronave_voo_origem                                 \n",
       "FORA DE AERODROMO                               2691\n",
       "SANTOS DUMONT                                   1049\n",
       "GUARARAPES - GILBERTO FREYRE                     525\n",
       "PRESIDENTE JUSCELINO KUBITSCHEK                  365\n",
       "CAMPO DE MARTE                                   264\n",
       "PORTO SEGURO                                     212\n",
       "VAL DE CANS / JÚLIO CEZAR RIBEIRO                205\n",
       "ESTADUAL ARTHUR SIQUEIRA                         186\n",
       "PINTO MARTINS                                    182\n",
       "DEPUTADO LUÍS EDUARDO MAGALHÃES                  174\n",
       "GOVERNADOR ANDRÉ FRANCO MONTORO                  156\n",
       "CONGONHAS                                        139\n",
       "AEROCLUBE DE ARACAJU                             135\n",
       "FLORES                                           118\n",
       "SÃO PEDRO                                        117\n",
       "BASE AÉREA DE SANTA CRUZ                         117\n",
       "ZUMBI DOS PALMARES                               111\n",
       "AEROCLUBE DE ITÁPOLIS                            109\n",
       "RESENDE                                          108\n",
       "SOROCABA                                         105"
      ]
     },
     "execution_count": 92,
     "metadata": {},
     "output_type": "execute_result"
    }
   ],
   "source": [
    "voo.sort_values('codigo_ocorrencia', ascending=False).head(20)"
   ]
  },
  {
   "cell_type": "markdown",
   "metadata": {},
   "source": [
    "## Quantidade de ocorrências por cidades e dados da aeronave"
   ]
  },
  {
   "cell_type": "code",
   "execution_count": 93,
   "metadata": {},
   "outputs": [],
   "source": [
    "tipo=aero.groupby(['ocorrencia_cidade','aeronave_nivel_dano','aeronave_matricula','aeronave_modelo', 'aeronave_ano_fabricacao', 'aeronave_fabricante']).agg({'codigo_ocorrencia':ma.count })"
   ]
  },
  {
   "cell_type": "code",
   "execution_count": 94,
   "metadata": {},
   "outputs": [
    {
     "data": {
      "text/html": [
       "<div>\n",
       "<style scoped>\n",
       "    .dataframe tbody tr th:only-of-type {\n",
       "        vertical-align: middle;\n",
       "    }\n",
       "\n",
       "    .dataframe tbody tr th {\n",
       "        vertical-align: top;\n",
       "    }\n",
       "\n",
       "    .dataframe thead th {\n",
       "        text-align: right;\n",
       "    }\n",
       "</style>\n",
       "<table border=\"1\" class=\"dataframe\">\n",
       "  <thead>\n",
       "    <tr style=\"text-align: right;\">\n",
       "      <th></th>\n",
       "      <th></th>\n",
       "      <th></th>\n",
       "      <th></th>\n",
       "      <th></th>\n",
       "      <th></th>\n",
       "      <th>codigo_ocorrencia</th>\n",
       "    </tr>\n",
       "    <tr>\n",
       "      <th>ocorrencia_cidade</th>\n",
       "      <th>aeronave_nivel_dano</th>\n",
       "      <th>aeronave_matricula</th>\n",
       "      <th>aeronave_modelo</th>\n",
       "      <th>aeronave_ano_fabricacao</th>\n",
       "      <th>aeronave_fabricante</th>\n",
       "      <th></th>\n",
       "    </tr>\n",
       "  </thead>\n",
       "  <tbody>\n",
       "    <tr>\n",
       "      <th>RIO DE JANEIRO</th>\n",
       "      <th>SUBSTANCIAL</th>\n",
       "      <th>PTLXO</th>\n",
       "      <th>55C</th>\n",
       "      <th>1988.0</th>\n",
       "      <th>LEARJET</th>\n",
       "      <td>722</td>\n",
       "    </tr>\n",
       "    <tr>\n",
       "      <th>RECIFE</th>\n",
       "      <th>DESTRUÍDA</th>\n",
       "      <th>PRNOB</th>\n",
       "      <th>L410UVP-E20</th>\n",
       "      <th>2010.0</th>\n",
       "      <th>AIRCRAFT INDUSTRIES</th>\n",
       "      <td>414</td>\n",
       "    </tr>\n",
       "    <tr>\n",
       "      <th>SANTOS</th>\n",
       "      <th>DESTRUÍDA</th>\n",
       "      <th>PRAFA</th>\n",
       "      <th>560XLS+</th>\n",
       "      <th>2010.0</th>\n",
       "      <th>CESSNA AIRCRAFT</th>\n",
       "      <td>208</td>\n",
       "    </tr>\n",
       "    <tr>\n",
       "      <th>PORTO SEGURO</th>\n",
       "      <th>DESTRUÍDA</th>\n",
       "      <th>PROMO</th>\n",
       "      <th>AS 350 B2</th>\n",
       "      <th>2008.0</th>\n",
       "      <th>EUROCOPTER FRANCE</th>\n",
       "      <td>162</td>\n",
       "    </tr>\n",
       "    <tr>\n",
       "      <th>CAUCAIA</th>\n",
       "      <th>NENHUM</th>\n",
       "      <th>PREES</th>\n",
       "      <th>BK117 C-2</th>\n",
       "      <th>2013.0</th>\n",
       "      <th>EUROCOPTER DEUTSCHLAND</th>\n",
       "      <td>136</td>\n",
       "    </tr>\n",
       "    <tr>\n",
       "      <th>ARACAJU</th>\n",
       "      <th>DESTRUÍDA</th>\n",
       "      <th>PRHQB</th>\n",
       "      <th>206B</th>\n",
       "      <th>1969.0</th>\n",
       "      <th>BELL HELICOPTER</th>\n",
       "      <td>135</td>\n",
       "    </tr>\n",
       "    <tr>\n",
       "      <th>SÃO PAULO</th>\n",
       "      <th>SUBSTANCIAL</th>\n",
       "      <th>PTYYG</th>\n",
       "      <th>R22</th>\n",
       "      <th>1998.0</th>\n",
       "      <th>ROBINSON HELICOPTER</th>\n",
       "      <td>121</td>\n",
       "    </tr>\n",
       "    <tr>\n",
       "      <th>UBERLÂNDIA</th>\n",
       "      <th>LEVE</th>\n",
       "      <th>PRPSK</th>\n",
       "      <th>EMB-145LR</th>\n",
       "      <th>2001.0</th>\n",
       "      <th>EMBRAER</th>\n",
       "      <td>120</td>\n",
       "    </tr>\n",
       "    <tr>\n",
       "      <th>BRAGANÇA PAULISTA</th>\n",
       "      <th>SUBSTANCIAL</th>\n",
       "      <th>PPHLV</th>\n",
       "      <th>56-C-1</th>\n",
       "      <th>1962.0</th>\n",
       "      <th>NEIVA INDUSTRIA AERONAUTICA</th>\n",
       "      <td>117</td>\n",
       "    </tr>\n",
       "    <tr>\n",
       "      <th>ALMIRANTE TAMANDARÉ</th>\n",
       "      <th>DESTRUÍDA</th>\n",
       "      <th>PTMFW</th>\n",
       "      <th>PA-31T2</th>\n",
       "      <th>1983.0</th>\n",
       "      <th>PIPER AIRCRAFT</th>\n",
       "      <td>117</td>\n",
       "    </tr>\n",
       "    <tr>\n",
       "      <th rowspan=\"2\" valign=\"top\">BRASÍLIA</th>\n",
       "      <th rowspan=\"2\" valign=\"top\">NENHUM</th>\n",
       "      <th>FAB2345</th>\n",
       "      <th>C95M</th>\n",
       "      <th>0.0</th>\n",
       "      <th>EMBRAER</th>\n",
       "      <td>117</td>\n",
       "    </tr>\n",
       "    <tr>\n",
       "      <th>PRGTN</th>\n",
       "      <th>737-8EH</th>\n",
       "      <th>2007.0</th>\n",
       "      <th>BOEING COMPANY</th>\n",
       "      <td>117</td>\n",
       "    </tr>\n",
       "    <tr>\n",
       "      <th>SÃO PAULO</th>\n",
       "      <th>DESTRUÍDA</th>\n",
       "      <th>PPMAW</th>\n",
       "      <th>AS 350 B3</th>\n",
       "      <th>1999.0</th>\n",
       "      <th>HELIBRAS</th>\n",
       "      <td>112</td>\n",
       "    </tr>\n",
       "    <tr>\n",
       "      <th>RESENDE</th>\n",
       "      <th>DESTRUÍDA</th>\n",
       "      <th>PREBM</th>\n",
       "      <th>AT-802</th>\n",
       "      <th>2003.0</th>\n",
       "      <th>AIR TRACTOR</th>\n",
       "      <td>104</td>\n",
       "    </tr>\n",
       "    <tr>\n",
       "      <th>LONDRINA</th>\n",
       "      <th>DESTRUÍDA</th>\n",
       "      <th>PTWUG</th>\n",
       "      <th>C90A</th>\n",
       "      <th>0.0</th>\n",
       "      <th>BEECH AIRCRAFT</th>\n",
       "      <td>96</td>\n",
       "    </tr>\n",
       "    <tr>\n",
       "      <th>MACEIÓ</th>\n",
       "      <th>DESTRUÍDA</th>\n",
       "      <th>PPELA</th>\n",
       "      <th>206L-3</th>\n",
       "      <th>1991.0</th>\n",
       "      <th>BELL HELICOPTER</th>\n",
       "      <td>90</td>\n",
       "    </tr>\n",
       "    <tr>\n",
       "      <th>BRASÍLIA</th>\n",
       "      <th>LEVE</th>\n",
       "      <th>CSTOF</th>\n",
       "      <th>A330-223</th>\n",
       "      <th>0.0</th>\n",
       "      <th>AIRBUS INDUSTRIE</th>\n",
       "      <td>88</td>\n",
       "    </tr>\n",
       "    <tr>\n",
       "      <th>TERESINA</th>\n",
       "      <th>DESTRUÍDA</th>\n",
       "      <th>PTCNL</th>\n",
       "      <th>172A</th>\n",
       "      <th>1960.0</th>\n",
       "      <th>CESSNA AIRCRAFT</th>\n",
       "      <td>78</td>\n",
       "    </tr>\n",
       "    <tr>\n",
       "      <th>BOITUVA</th>\n",
       "      <th>SUBSTANCIAL</th>\n",
       "      <th>PTOQR</th>\n",
       "      <th>208</th>\n",
       "      <th>1992.0</th>\n",
       "      <th>CESSNA AIRCRAFT</th>\n",
       "      <td>70</td>\n",
       "    </tr>\n",
       "    <tr>\n",
       "      <th>LUZIÂNIA</th>\n",
       "      <th>SUBSTANCIAL</th>\n",
       "      <th>PRFPL</th>\n",
       "      <th>EC 120 B</th>\n",
       "      <th>2002.0</th>\n",
       "      <th>EUROCOPTER FRANCE</th>\n",
       "      <td>66</td>\n",
       "    </tr>\n",
       "  </tbody>\n",
       "</table>\n",
       "</div>"
      ],
      "text/plain": [
       "                                                                                                                                codigo_ocorrencia\n",
       "ocorrencia_cidade   aeronave_nivel_dano aeronave_matricula aeronave_modelo aeronave_ano_fabricacao aeronave_fabricante                           \n",
       "RIO DE JANEIRO      SUBSTANCIAL         PTLXO              55C             1988.0                  LEARJET                                    722\n",
       "RECIFE              DESTRUÍDA           PRNOB              L410UVP-E20     2010.0                  AIRCRAFT INDUSTRIES                        414\n",
       "SANTOS              DESTRUÍDA           PRAFA              560XLS+         2010.0                  CESSNA AIRCRAFT                            208\n",
       "PORTO SEGURO        DESTRUÍDA           PROMO              AS 350 B2       2008.0                  EUROCOPTER FRANCE                          162\n",
       "CAUCAIA             NENHUM              PREES              BK117 C-2       2013.0                  EUROCOPTER DEUTSCHLAND                     136\n",
       "ARACAJU             DESTRUÍDA           PRHQB              206B            1969.0                  BELL HELICOPTER                            135\n",
       "SÃO PAULO           SUBSTANCIAL         PTYYG              R22             1998.0                  ROBINSON HELICOPTER                        121\n",
       "UBERLÂNDIA          LEVE                PRPSK              EMB-145LR       2001.0                  EMBRAER                                    120\n",
       "BRAGANÇA PAULISTA   SUBSTANCIAL         PPHLV              56-C-1          1962.0                  NEIVA INDUSTRIA AERONAUTICA                117\n",
       "ALMIRANTE TAMANDARÉ DESTRUÍDA           PTMFW              PA-31T2         1983.0                  PIPER AIRCRAFT                             117\n",
       "BRASÍLIA            NENHUM              FAB2345            C95M            0.0                     EMBRAER                                    117\n",
       "                                        PRGTN              737-8EH         2007.0                  BOEING COMPANY                             117\n",
       "SÃO PAULO           DESTRUÍDA           PPMAW              AS 350 B3       1999.0                  HELIBRAS                                   112\n",
       "RESENDE             DESTRUÍDA           PREBM              AT-802          2003.0                  AIR TRACTOR                                104\n",
       "LONDRINA            DESTRUÍDA           PTWUG              C90A            0.0                     BEECH AIRCRAFT                              96\n",
       "MACEIÓ              DESTRUÍDA           PPELA              206L-3          1991.0                  BELL HELICOPTER                             90\n",
       "BRASÍLIA            LEVE                CSTOF              A330-223        0.0                     AIRBUS INDUSTRIE                            88\n",
       "TERESINA            DESTRUÍDA           PTCNL              172A            1960.0                  CESSNA AIRCRAFT                             78\n",
       "BOITUVA             SUBSTANCIAL         PTOQR              208             1992.0                  CESSNA AIRCRAFT                             70\n",
       "LUZIÂNIA            SUBSTANCIAL         PRFPL              EC 120 B        2002.0                  EUROCOPTER FRANCE                           66"
      ]
     },
     "execution_count": 94,
     "metadata": {},
     "output_type": "execute_result"
    }
   ],
   "source": [
    "tipo.sort_values('codigo_ocorrencia', ascending=False).head(20)"
   ]
  },
  {
   "cell_type": "markdown",
   "metadata": {},
   "source": [
    "# Hipóteses levantadas "
   ]
  },
  {
   "cell_type": "markdown",
   "metadata": {},
   "source": [
    "## 1. Qual o motivo das ocorrência no ano de 2010, seriam aeronaves antigas, sem manutenção e que receberam muitas recomendações?"
   ]
  },
  {
   "cell_type": "code",
   "execution_count": 95,
   "metadata": {},
   "outputs": [],
   "source": [
    "analise1= aero[(aero['ano']) == 2010][['aeronave_ano_fabricacao', 'ocorrencia_cidade', 'ocorrencia_tipo','aeronave_nivel_dano']]"
   ]
  },
  {
   "cell_type": "code",
   "execution_count": 96,
   "metadata": {},
   "outputs": [
    {
     "data": {
      "text/plain": [
       "1988.0    752\n",
       "0.0       156\n",
       "1969.0    153\n",
       "1999.0    150\n",
       "1962.0    122\n",
       "1998.0    121\n",
       "1997.0    115\n",
       "1976.0    111\n",
       "2003.0    106\n",
       "2009.0     97\n",
       "Name: aeronave_ano_fabricacao, dtype: int64"
      ]
     },
     "execution_count": 96,
     "metadata": {},
     "output_type": "execute_result"
    }
   ],
   "source": [
    "analise1['aeronave_ano_fabricacao'].value_counts().head(10)"
   ]
  },
  {
   "cell_type": "code",
   "execution_count": 97,
   "metadata": {},
   "outputs": [
    {
     "data": {
      "text/plain": [
       "codigo_ocorrencia    2885\n",
       "dtype: int64"
      ]
     },
     "execution_count": 97,
     "metadata": {},
     "output_type": "execute_result"
    }
   ],
   "source": [
    "#Quantidade de ocorrências no ano de 2010.\n",
    "\n",
    "aero[(aero['ano']) == 2010][['codigo_ocorrencia']].count()"
   ]
  },
  {
   "cell_type": "code",
   "execution_count": 98,
   "metadata": {},
   "outputs": [
    {
     "data": {
      "text/plain": [
       "PERDA DE CONTROLE EM VOO                              641\n",
       "PERDA DE CONTROLE NO SOLO                             574\n",
       "EXCURSÃO DE PISTA                                     572\n",
       "FALHA DO MOTOR EM VOO                                 404\n",
       "PANE SECA                                             113\n",
       "CAUSADO POR FENÔMENO METEOROLÓGICO EM VOO              96\n",
       "FALHA OU MAU FUNCIONAMENTO DE SISTEMA / COMPONENTE     95\n",
       "VOO CONTROLADO CONTRA O TERRENO                        76\n",
       "OUTROS                                                 61\n",
       "COLISÃO COM OBSTÁCULO DURANTE A DECOLAGEM E POUSO      58\n",
       "Name: ocorrencia_tipo, dtype: int64"
      ]
     },
     "execution_count": 98,
     "metadata": {},
     "output_type": "execute_result"
    }
   ],
   "source": [
    "analise1['ocorrencia_tipo'].value_counts().head(10)"
   ]
  },
  {
   "cell_type": "code",
   "execution_count": 99,
   "metadata": {},
   "outputs": [
    {
     "data": {
      "text/plain": [
       "SUBSTANCIAL    1724\n",
       "DESTRUÍDA       765\n",
       "LEVE            220\n",
       "NENHUM          176\n",
       "Name: aeronave_nivel_dano, dtype: int64"
      ]
     },
     "execution_count": 99,
     "metadata": {},
     "output_type": "execute_result"
    }
   ],
   "source": [
    "analise1['aeronave_nivel_dano'].value_counts().head(10).head()"
   ]
  },
  {
   "cell_type": "code",
   "execution_count": 100,
   "metadata": {},
   "outputs": [],
   "source": [
    "analis1=aero[(aero['aeronave_ano_fabricacao']== 1988.0) & (aero['ano']== 2010)][['ocorrencia_cidade', 'ocorrencia_tipo','aeronave_nivel_dano','total_recomendacoes','aeronave_tipo_operacao']]\n"
   ]
  },
  {
   "cell_type": "code",
   "execution_count": 101,
   "metadata": {},
   "outputs": [
    {
     "data": {
      "text/plain": [
       "RIO DE JANEIRO    752\n",
       "Name: ocorrencia_cidade, dtype: int64"
      ]
     },
     "execution_count": 101,
     "metadata": {},
     "output_type": "execute_result"
    }
   ],
   "source": [
    "analis1['ocorrencia_cidade'].value_counts().head(10)"
   ]
  },
  {
   "cell_type": "code",
   "execution_count": 102,
   "metadata": {},
   "outputs": [
    {
     "data": {
      "text/plain": [
       "TÁXI AÉREO    722\n",
       "INSTRUÇÃO      30\n",
       "Name: aeronave_tipo_operacao, dtype: int64"
      ]
     },
     "execution_count": 102,
     "metadata": {},
     "output_type": "execute_result"
    }
   ],
   "source": [
    "analis1['aeronave_tipo_operacao'].value_counts().head(10)"
   ]
  },
  {
   "cell_type": "code",
   "execution_count": 103,
   "metadata": {},
   "outputs": [],
   "source": [
    "ana_2010=analis1.groupby(['ocorrencia_cidade','aeronave_tipo_operacao','ocorrencia_tipo','aeronave_nivel_dano'])"
   ]
  },
  {
   "cell_type": "code",
   "execution_count": 104,
   "metadata": {},
   "outputs": [
    {
     "data": {
      "text/html": [
       "<div>\n",
       "<style scoped>\n",
       "    .dataframe tbody tr th:only-of-type {\n",
       "        vertical-align: middle;\n",
       "    }\n",
       "\n",
       "    .dataframe tbody tr th {\n",
       "        vertical-align: top;\n",
       "    }\n",
       "\n",
       "    .dataframe thead th {\n",
       "        text-align: right;\n",
       "    }\n",
       "</style>\n",
       "<table border=\"1\" class=\"dataframe\">\n",
       "  <thead>\n",
       "    <tr style=\"text-align: right;\">\n",
       "      <th></th>\n",
       "      <th>ocorrencia_cidade</th>\n",
       "      <th>ocorrencia_tipo</th>\n",
       "      <th>aeronave_nivel_dano</th>\n",
       "      <th>total_recomendacoes</th>\n",
       "      <th>aeronave_tipo_operacao</th>\n",
       "    </tr>\n",
       "  </thead>\n",
       "  <tbody>\n",
       "    <tr>\n",
       "      <th>1281</th>\n",
       "      <td>RIO DE JANEIRO</td>\n",
       "      <td>EXCURSÃO DE PISTA</td>\n",
       "      <td>SUBSTANCIAL</td>\n",
       "      <td>19</td>\n",
       "      <td>TÁXI AÉREO</td>\n",
       "    </tr>\n",
       "    <tr>\n",
       "      <th>1282</th>\n",
       "      <td>RIO DE JANEIRO</td>\n",
       "      <td>EXCURSÃO DE PISTA</td>\n",
       "      <td>SUBSTANCIAL</td>\n",
       "      <td>19</td>\n",
       "      <td>TÁXI AÉREO</td>\n",
       "    </tr>\n",
       "    <tr>\n",
       "      <th>1283</th>\n",
       "      <td>RIO DE JANEIRO</td>\n",
       "      <td>EXCURSÃO DE PISTA</td>\n",
       "      <td>SUBSTANCIAL</td>\n",
       "      <td>19</td>\n",
       "      <td>TÁXI AÉREO</td>\n",
       "    </tr>\n",
       "    <tr>\n",
       "      <th>1284</th>\n",
       "      <td>RIO DE JANEIRO</td>\n",
       "      <td>EXCURSÃO DE PISTA</td>\n",
       "      <td>SUBSTANCIAL</td>\n",
       "      <td>19</td>\n",
       "      <td>TÁXI AÉREO</td>\n",
       "    </tr>\n",
       "    <tr>\n",
       "      <th>1285</th>\n",
       "      <td>RIO DE JANEIRO</td>\n",
       "      <td>EXCURSÃO DE PISTA</td>\n",
       "      <td>SUBSTANCIAL</td>\n",
       "      <td>19</td>\n",
       "      <td>TÁXI AÉREO</td>\n",
       "    </tr>\n",
       "    <tr>\n",
       "      <th>1642</th>\n",
       "      <td>RIO DE JANEIRO</td>\n",
       "      <td>PERDA DE CONTROLE NO SOLO</td>\n",
       "      <td>SUBSTANCIAL</td>\n",
       "      <td>19</td>\n",
       "      <td>TÁXI AÉREO</td>\n",
       "    </tr>\n",
       "    <tr>\n",
       "      <th>1643</th>\n",
       "      <td>RIO DE JANEIRO</td>\n",
       "      <td>PERDA DE CONTROLE NO SOLO</td>\n",
       "      <td>SUBSTANCIAL</td>\n",
       "      <td>19</td>\n",
       "      <td>TÁXI AÉREO</td>\n",
       "    </tr>\n",
       "    <tr>\n",
       "      <th>1644</th>\n",
       "      <td>RIO DE JANEIRO</td>\n",
       "      <td>PERDA DE CONTROLE NO SOLO</td>\n",
       "      <td>SUBSTANCIAL</td>\n",
       "      <td>19</td>\n",
       "      <td>TÁXI AÉREO</td>\n",
       "    </tr>\n",
       "    <tr>\n",
       "      <th>1645</th>\n",
       "      <td>RIO DE JANEIRO</td>\n",
       "      <td>PERDA DE CONTROLE NO SOLO</td>\n",
       "      <td>SUBSTANCIAL</td>\n",
       "      <td>19</td>\n",
       "      <td>TÁXI AÉREO</td>\n",
       "    </tr>\n",
       "    <tr>\n",
       "      <th>1646</th>\n",
       "      <td>RIO DE JANEIRO</td>\n",
       "      <td>PERDA DE CONTROLE NO SOLO</td>\n",
       "      <td>SUBSTANCIAL</td>\n",
       "      <td>19</td>\n",
       "      <td>TÁXI AÉREO</td>\n",
       "    </tr>\n",
       "    <tr>\n",
       "      <th>1181</th>\n",
       "      <td>RIO DE JANEIRO</td>\n",
       "      <td>PERDA DE CONTROLE EM VOO</td>\n",
       "      <td>SUBSTANCIAL</td>\n",
       "      <td>3</td>\n",
       "      <td>INSTRUÇÃO</td>\n",
       "    </tr>\n",
       "    <tr>\n",
       "      <th>1182</th>\n",
       "      <td>RIO DE JANEIRO</td>\n",
       "      <td>PERDA DE CONTROLE EM VOO</td>\n",
       "      <td>SUBSTANCIAL</td>\n",
       "      <td>3</td>\n",
       "      <td>INSTRUÇÃO</td>\n",
       "    </tr>\n",
       "    <tr>\n",
       "      <th>1183</th>\n",
       "      <td>RIO DE JANEIRO</td>\n",
       "      <td>PERDA DE CONTROLE EM VOO</td>\n",
       "      <td>SUBSTANCIAL</td>\n",
       "      <td>3</td>\n",
       "      <td>INSTRUÇÃO</td>\n",
       "    </tr>\n",
       "    <tr>\n",
       "      <th>1184</th>\n",
       "      <td>RIO DE JANEIRO</td>\n",
       "      <td>PERDA DE CONTROLE EM VOO</td>\n",
       "      <td>SUBSTANCIAL</td>\n",
       "      <td>3</td>\n",
       "      <td>INSTRUÇÃO</td>\n",
       "    </tr>\n",
       "    <tr>\n",
       "      <th>1185</th>\n",
       "      <td>RIO DE JANEIRO</td>\n",
       "      <td>PERDA DE CONTROLE EM VOO</td>\n",
       "      <td>SUBSTANCIAL</td>\n",
       "      <td>3</td>\n",
       "      <td>INSTRUÇÃO</td>\n",
       "    </tr>\n",
       "  </tbody>\n",
       "</table>\n",
       "</div>"
      ],
      "text/plain": [
       "     ocorrencia_cidade            ocorrencia_tipo aeronave_nivel_dano  \\\n",
       "1281    RIO DE JANEIRO          EXCURSÃO DE PISTA         SUBSTANCIAL   \n",
       "1282    RIO DE JANEIRO          EXCURSÃO DE PISTA         SUBSTANCIAL   \n",
       "1283    RIO DE JANEIRO          EXCURSÃO DE PISTA         SUBSTANCIAL   \n",
       "1284    RIO DE JANEIRO          EXCURSÃO DE PISTA         SUBSTANCIAL   \n",
       "1285    RIO DE JANEIRO          EXCURSÃO DE PISTA         SUBSTANCIAL   \n",
       "1642    RIO DE JANEIRO  PERDA DE CONTROLE NO SOLO         SUBSTANCIAL   \n",
       "1643    RIO DE JANEIRO  PERDA DE CONTROLE NO SOLO         SUBSTANCIAL   \n",
       "1644    RIO DE JANEIRO  PERDA DE CONTROLE NO SOLO         SUBSTANCIAL   \n",
       "1645    RIO DE JANEIRO  PERDA DE CONTROLE NO SOLO         SUBSTANCIAL   \n",
       "1646    RIO DE JANEIRO  PERDA DE CONTROLE NO SOLO         SUBSTANCIAL   \n",
       "1181    RIO DE JANEIRO   PERDA DE CONTROLE EM VOO         SUBSTANCIAL   \n",
       "1182    RIO DE JANEIRO   PERDA DE CONTROLE EM VOO         SUBSTANCIAL   \n",
       "1183    RIO DE JANEIRO   PERDA DE CONTROLE EM VOO         SUBSTANCIAL   \n",
       "1184    RIO DE JANEIRO   PERDA DE CONTROLE EM VOO         SUBSTANCIAL   \n",
       "1185    RIO DE JANEIRO   PERDA DE CONTROLE EM VOO         SUBSTANCIAL   \n",
       "\n",
       "      total_recomendacoes aeronave_tipo_operacao  \n",
       "1281                   19             TÁXI AÉREO  \n",
       "1282                   19             TÁXI AÉREO  \n",
       "1283                   19             TÁXI AÉREO  \n",
       "1284                   19             TÁXI AÉREO  \n",
       "1285                   19             TÁXI AÉREO  \n",
       "1642                   19             TÁXI AÉREO  \n",
       "1643                   19             TÁXI AÉREO  \n",
       "1644                   19             TÁXI AÉREO  \n",
       "1645                   19             TÁXI AÉREO  \n",
       "1646                   19             TÁXI AÉREO  \n",
       "1181                    3              INSTRUÇÃO  \n",
       "1182                    3              INSTRUÇÃO  \n",
       "1183                    3              INSTRUÇÃO  \n",
       "1184                    3              INSTRUÇÃO  \n",
       "1185                    3              INSTRUÇÃO  "
      ]
     },
     "execution_count": 104,
     "metadata": {},
     "output_type": "execute_result"
    }
   ],
   "source": [
    "ana_2010.head().sort_values('total_recomendacoes', ascending=False)"
   ]
  },
  {
   "cell_type": "markdown",
   "metadata": {},
   "source": [
    "* Em 2010 o volume de ocorrência foi maior para aeronaves com fabricação em 1988, mais de 22 anos de fabricação, e em média 2 ocorrências por dia. Totalizando 22% das ocorrências em 2010.\n",
    "\n",
    "* As ocorrências referentes a essas aeronaves foram na cidade do Rio de Janeiro, tipo de operação Taxi Aéreo, tendo como principal tipo de ocorrência a perda de controle em voo, com dano substancial da aeronave e com auto número de recomendações, superior a 12."
   ]
  },
  {
   "cell_type": "code",
   "execution_count": 105,
   "metadata": {},
   "outputs": [
    {
     "data": {
      "text/html": [
       "<div>\n",
       "<style scoped>\n",
       "    .dataframe tbody tr th:only-of-type {\n",
       "        vertical-align: middle;\n",
       "    }\n",
       "\n",
       "    .dataframe tbody tr th {\n",
       "        vertical-align: top;\n",
       "    }\n",
       "\n",
       "    .dataframe thead th {\n",
       "        text-align: right;\n",
       "    }\n",
       "</style>\n",
       "<table border=\"1\" class=\"dataframe\">\n",
       "  <thead>\n",
       "    <tr style=\"text-align: right;\">\n",
       "      <th></th>\n",
       "      <th>ocorrencia_cidade</th>\n",
       "      <th>ocorrencia_dia</th>\n",
       "      <th>aeronave_matricula</th>\n",
       "      <th>ocorrencia_tipo</th>\n",
       "      <th>total_recomendacoes</th>\n",
       "      <th>aeronave_tipo_operacao</th>\n",
       "      <th>recomendacao_numero</th>\n",
       "    </tr>\n",
       "  </thead>\n",
       "  <tbody>\n",
       "    <tr>\n",
       "      <th>15</th>\n",
       "      <td>SÃO PAULO</td>\n",
       "      <td>10/01/2010</td>\n",
       "      <td>PPMAW</td>\n",
       "      <td>PERDA DE CONTROLE NO SOLO</td>\n",
       "      <td>8</td>\n",
       "      <td>PRIVADA</td>\n",
       "      <td>463/2012</td>\n",
       "    </tr>\n",
       "    <tr>\n",
       "      <th>16</th>\n",
       "      <td>SÃO PAULO</td>\n",
       "      <td>10/01/2010</td>\n",
       "      <td>PPMAW</td>\n",
       "      <td>PERDA DE CONTROLE NO SOLO</td>\n",
       "      <td>8</td>\n",
       "      <td>PRIVADA</td>\n",
       "      <td>464/2012</td>\n",
       "    </tr>\n",
       "    <tr>\n",
       "      <th>17</th>\n",
       "      <td>SÃO PAULO</td>\n",
       "      <td>10/01/2010</td>\n",
       "      <td>PPMAW</td>\n",
       "      <td>PERDA DE CONTROLE NO SOLO</td>\n",
       "      <td>8</td>\n",
       "      <td>PRIVADA</td>\n",
       "      <td>465/2012</td>\n",
       "    </tr>\n",
       "    <tr>\n",
       "      <th>18</th>\n",
       "      <td>SÃO PAULO</td>\n",
       "      <td>10/01/2010</td>\n",
       "      <td>PPMAW</td>\n",
       "      <td>PERDA DE CONTROLE NO SOLO</td>\n",
       "      <td>8</td>\n",
       "      <td>PRIVADA</td>\n",
       "      <td>466/2012</td>\n",
       "    </tr>\n",
       "    <tr>\n",
       "      <th>19</th>\n",
       "      <td>SÃO PAULO</td>\n",
       "      <td>10/01/2010</td>\n",
       "      <td>PPMAW</td>\n",
       "      <td>PERDA DE CONTROLE NO SOLO</td>\n",
       "      <td>8</td>\n",
       "      <td>PRIVADA</td>\n",
       "      <td>467/2012</td>\n",
       "    </tr>\n",
       "    <tr>\n",
       "      <th>20</th>\n",
       "      <td>SÃO PAULO</td>\n",
       "      <td>10/01/2010</td>\n",
       "      <td>PPMAW</td>\n",
       "      <td>PERDA DE CONTROLE NO SOLO</td>\n",
       "      <td>8</td>\n",
       "      <td>PRIVADA</td>\n",
       "      <td>468/2012</td>\n",
       "    </tr>\n",
       "    <tr>\n",
       "      <th>21</th>\n",
       "      <td>SÃO PAULO</td>\n",
       "      <td>10/01/2010</td>\n",
       "      <td>PPMAW</td>\n",
       "      <td>PERDA DE CONTROLE NO SOLO</td>\n",
       "      <td>8</td>\n",
       "      <td>PRIVADA</td>\n",
       "      <td>469/2012</td>\n",
       "    </tr>\n",
       "    <tr>\n",
       "      <th>22</th>\n",
       "      <td>SÃO PAULO</td>\n",
       "      <td>10/01/2010</td>\n",
       "      <td>PPMAW</td>\n",
       "      <td>PERDA DE CONTROLE NO SOLO</td>\n",
       "      <td>8</td>\n",
       "      <td>PRIVADA</td>\n",
       "      <td>470/2012</td>\n",
       "    </tr>\n",
       "    <tr>\n",
       "      <th>23</th>\n",
       "      <td>SÃO PAULO</td>\n",
       "      <td>10/01/2010</td>\n",
       "      <td>PPMAW</td>\n",
       "      <td>PERDA DE CONTROLE NO SOLO</td>\n",
       "      <td>8</td>\n",
       "      <td>PRIVADA</td>\n",
       "      <td>463/2012</td>\n",
       "    </tr>\n",
       "    <tr>\n",
       "      <th>24</th>\n",
       "      <td>SÃO PAULO</td>\n",
       "      <td>10/01/2010</td>\n",
       "      <td>PPMAW</td>\n",
       "      <td>PERDA DE CONTROLE NO SOLO</td>\n",
       "      <td>8</td>\n",
       "      <td>PRIVADA</td>\n",
       "      <td>464/2012</td>\n",
       "    </tr>\n",
       "  </tbody>\n",
       "</table>\n",
       "</div>"
      ],
      "text/plain": [
       "   ocorrencia_cidade ocorrencia_dia aeronave_matricula  \\\n",
       "15         SÃO PAULO     10/01/2010              PPMAW   \n",
       "16         SÃO PAULO     10/01/2010              PPMAW   \n",
       "17         SÃO PAULO     10/01/2010              PPMAW   \n",
       "18         SÃO PAULO     10/01/2010              PPMAW   \n",
       "19         SÃO PAULO     10/01/2010              PPMAW   \n",
       "20         SÃO PAULO     10/01/2010              PPMAW   \n",
       "21         SÃO PAULO     10/01/2010              PPMAW   \n",
       "22         SÃO PAULO     10/01/2010              PPMAW   \n",
       "23         SÃO PAULO     10/01/2010              PPMAW   \n",
       "24         SÃO PAULO     10/01/2010              PPMAW   \n",
       "\n",
       "              ocorrencia_tipo  total_recomendacoes aeronave_tipo_operacao  \\\n",
       "15  PERDA DE CONTROLE NO SOLO                    8                PRIVADA   \n",
       "16  PERDA DE CONTROLE NO SOLO                    8                PRIVADA   \n",
       "17  PERDA DE CONTROLE NO SOLO                    8                PRIVADA   \n",
       "18  PERDA DE CONTROLE NO SOLO                    8                PRIVADA   \n",
       "19  PERDA DE CONTROLE NO SOLO                    8                PRIVADA   \n",
       "20  PERDA DE CONTROLE NO SOLO                    8                PRIVADA   \n",
       "21  PERDA DE CONTROLE NO SOLO                    8                PRIVADA   \n",
       "22  PERDA DE CONTROLE NO SOLO                    8                PRIVADA   \n",
       "23  PERDA DE CONTROLE NO SOLO                    8                PRIVADA   \n",
       "24  PERDA DE CONTROLE NO SOLO                    8                PRIVADA   \n",
       "\n",
       "   recomendacao_numero  \n",
       "15            463/2012  \n",
       "16            464/2012  \n",
       "17            465/2012  \n",
       "18            466/2012  \n",
       "19            467/2012  \n",
       "20            468/2012  \n",
       "21            469/2012  \n",
       "22            470/2012  \n",
       "23            463/2012  \n",
       "24            464/2012  "
      ]
     },
     "execution_count": 105,
     "metadata": {},
     "output_type": "execute_result"
    }
   ],
   "source": [
    "analis_dano=aero[(aero['aeronave_nivel_dano']== 'DESTRUÍDA') & (aero['aeronave_fatalidades_total']>= 0) & (aero['ano']== 2010)][['ocorrencia_cidade','ocorrencia_dia','aeronave_matricula', 'ocorrencia_tipo','total_recomendacoes','aeronave_tipo_operacao','recomendacao_numero']]\n",
    "analis_dano.head(10).sort_values('total_recomendacoes', ascending=False)\n"
   ]
  },
  {
   "cell_type": "markdown",
   "metadata": {},
   "source": [
    "## 2. Quais os motivos dos ocorrência do ano de 2018, após 8 anos os motivos permaneceram?"
   ]
  },
  {
   "cell_type": "code",
   "execution_count": 106,
   "metadata": {},
   "outputs": [],
   "source": [
    "analise2= aero[(aero['ano']) == 2018][['aeronave_ano_fabricacao', 'ocorrencia_cidade', 'ocorrencia_tipo','aeronave_nivel_dano']]"
   ]
  },
  {
   "cell_type": "code",
   "execution_count": 107,
   "metadata": {},
   "outputs": [
    {
     "data": {
      "text/plain": [
       "0.0       142\n",
       "2007.0    127\n",
       "1974.0     82\n",
       "1975.0     58\n",
       "2003.0     48\n",
       "1979.0     48\n",
       "2006.0     40\n",
       "1987.0     40\n",
       "1992.0     34\n",
       "1973.0     28\n",
       "Name: aeronave_ano_fabricacao, dtype: int64"
      ]
     },
     "execution_count": 107,
     "metadata": {},
     "output_type": "execute_result"
    }
   ],
   "source": [
    "analise2['aeronave_ano_fabricacao'].value_counts().head(10)"
   ]
  },
  {
   "cell_type": "code",
   "execution_count": 108,
   "metadata": {},
   "outputs": [
    {
     "data": {
      "text/plain": [
       "INCURSÃO EM PISTA            236\n",
       "PERDA DE CONTROLE NO SOLO    127\n",
       "TRÁFEGO AÉREO                 96\n",
       "PERDA DE CONTROLE EM VOO      87\n",
       "FALHA ESTRUTURAL              45\n",
       "FALHA DO MOTOR EM VOO         42\n",
       "COM ROTOR                     32\n",
       "EXCURSÃO DE PISTA             32\n",
       "OPERAÇÃO A BAIXA ALTITUDE     31\n",
       "POUSO SEM TREM                28\n",
       "Name: ocorrencia_tipo, dtype: int64"
      ]
     },
     "execution_count": 108,
     "metadata": {},
     "output_type": "execute_result"
    }
   ],
   "source": [
    "analise2['ocorrencia_tipo'].value_counts().head(10)"
   ]
  },
  {
   "cell_type": "code",
   "execution_count": 109,
   "metadata": {},
   "outputs": [
    {
     "data": {
      "text/plain": [
       "SUBSTANCIAL    506\n",
       "NENHUM         274\n",
       "DESTRUÍDA       84\n",
       "LEVE            25\n",
       "Name: aeronave_nivel_dano, dtype: int64"
      ]
     },
     "execution_count": 109,
     "metadata": {},
     "output_type": "execute_result"
    }
   ],
   "source": [
    "analise2['aeronave_nivel_dano'].value_counts().head(10).head()"
   ]
  },
  {
   "cell_type": "code",
   "execution_count": 110,
   "metadata": {},
   "outputs": [
    {
     "data": {
      "text/plain": [
       "BRASÍLIA           246\n",
       "ITÁPOLIS            96\n",
       "BARCELOS            56\n",
       "RECIFE              45\n",
       "CHAPADÃO DO CÉU     40\n",
       "RIO DE JANEIRO      32\n",
       "SÃO DESIDÉRIO       29\n",
       "ELDORADO DO SUL     24\n",
       "MANAUS              22\n",
       "BAURU               20\n",
       "Name: ocorrencia_cidade, dtype: int64"
      ]
     },
     "execution_count": 110,
     "metadata": {},
     "output_type": "execute_result"
    }
   ],
   "source": [
    "analise2['ocorrencia_cidade'].value_counts().head(10)"
   ]
  },
  {
   "cell_type": "code",
   "execution_count": 111,
   "metadata": {},
   "outputs": [
    {
     "data": {
      "text/plain": [
       "codigo_ocorrencia    896\n",
       "dtype: int64"
      ]
     },
     "execution_count": 111,
     "metadata": {},
     "output_type": "execute_result"
    }
   ],
   "source": [
    "#Quantidade de ocorrências no ano de 2018.\n",
    "\n",
    "aero[(aero['ano']) == 2018][['codigo_ocorrencia']].count()"
   ]
  },
  {
   "cell_type": "code",
   "execution_count": null,
   "metadata": {},
   "outputs": [],
   "source": []
  }
 ],
 "metadata": {
  "kernelspec": {
   "display_name": "Python 3",
   "language": "python",
   "name": "python3"
  },
  "language_info": {
   "codemirror_mode": {
    "name": "ipython",
    "version": 3
   },
   "file_extension": ".py",
   "mimetype": "text/x-python",
   "name": "python",
   "nbconvert_exporter": "python",
   "pygments_lexer": "ipython3",
   "version": "3.8.3"
  }
 },
 "nbformat": 4,
 "nbformat_minor": 4
}
